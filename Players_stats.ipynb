{
 "cells": [
  {
   "cell_type": "markdown",
   "metadata": {},
   "source": [
    "<h1> Importation des librairies, biblio et fichiers </h1>"
   ]
  },
  {
   "cell_type": "code",
   "execution_count": 1,
   "metadata": {},
   "outputs": [],
   "source": [
    "import xml.etree.ElementTree as ET\n",
    "tree = ET.parse(\"Data.XML\")"
   ]
  },
  {
   "cell_type": "markdown",
   "metadata": {},
   "source": [
    "<h3> Racine </h3>"
   ]
  },
  {
   "cell_type": "code",
   "execution_count": 2,
   "metadata": {},
   "outputs": [],
   "source": [
    "root = tree.getroot()"
   ]
  },
  {
   "cell_type": "markdown",
   "metadata": {},
   "source": [
    "<h3> Opérations sur les points </h3>"
   ]
  },
  {
   "cell_type": "code",
   "execution_count": 3,
   "metadata": {},
   "outputs": [],
   "source": [
    "import matplotlib.pyplot as plt\n",
    "import operator\n",
    "\n",
    "\n",
    "rs_players = root.findall(\"regular_season/\")\n",
    "po_players = root.findall(\"playoffs/\")\n",
    "\n",
    "\n",
    "def displayPlayers():\n",
    "    print(\"\\nListe des joueurs: \")\n",
    "    for child in rs_players:\n",
    "        print(child.tag)\n",
    "\n",
    "def getRegularPoints():\n",
    "    rs_points = {}\n",
    "    for child in rs_players:\n",
    "        rs_points[child.tag] = child.find(\"points\").text\n",
    "    return rs_points\n",
    "\n",
    "def getPlayoffsPoints():\n",
    "    po_points = {}\n",
    "    for child in po_players:\n",
    "        po_points[child.tag] = child.find(\"points\").text\n",
    "    return po_points\n",
    "\n",
    "def getTotalPoints():\n",
    "    total_points = {}\n",
    "    for child in rs_players:\n",
    "        total_points[child.tag] = int(rs_points[child.tag]) + int(po_points[child.tag])\n",
    "    return total_points\n",
    "    \n",
    "def barPoints():\n",
    "    plt.bar(range(len(total_points)), list(total_points.values()), align='center')\n",
    "    plt.xticks(range(len(total_points)), list(total_points.keys()))\n",
    "    plt.show()\n",
    "\n",
    "def orderTotalPoints():\n",
    "    sorted_points = sorted(total_points.items(), key=operator.itemgetter(1))\n",
    "    return sorted_points"
   ]
  },
  {
   "cell_type": "markdown",
   "metadata": {},
   "source": [
    "<h1> Statistiques sur les points </h1>"
   ]
  },
  {
   "cell_type": "code",
   "execution_count": 4,
   "metadata": {},
   "outputs": [
    {
     "name": "stdout",
     "output_type": "stream",
     "text": [
      "\n",
      "Points en ordre: \n",
      "[('magic', 21408), ('garnett', 28672), ('hakeem', 30701), ('duncan', 31668), ('shaq', 33846), ('wilt', 35026), ('dirk', 35223), ('michael', 38279), ('kobe', 39283), ('lebron', 40998), ('karl_malone', 41689), ('kareem', 44149)]\n"
     ]
    },
    {
     "data": {
      "image/png": "[encoded data removed]",
      "text/plain": [
       "<Figure size 432x288 with 1 Axes>"
      ]
     },
     "metadata": {
      "needs_background": "light"
     },
     "output_type": "display_data"
    },
    {
     "name": "stdout",
     "output_type": "stream",
     "text": [
      "\n",
      "Liste des joueurs: \n",
      "lebron\n",
      "michael\n",
      "kareem\n",
      "kobe\n",
      "karl_malone\n",
      "wilt\n",
      "shaq\n",
      "duncan\n",
      "dirk\n",
      "hakeem\n",
      "garnett\n",
      "magic\n"
     ]
    }
   ],
   "source": [
    "rs_points = getRegularPoints()\n",
    "po_points = getPlayoffsPoints()\n",
    "total_points = getTotalPoints()\n",
    "ordered_points = orderTotalPoints()\n",
    "#print(str(rs_points))\n",
    "#print(str(po_points))\n",
    "#print(str(total_points))\n",
    "print(\"\\nPoints en ordre: \\n\" + str(ordered_points))\n",
    "barPoints()\n",
    "    \n",
    "displayPlayers()"
   ]
  },
  {
   "cell_type": "markdown",
   "metadata": {},
   "source": [
    "<h3> Opérations sur les passes </h3>"
   ]
  },
  {
   "cell_type": "code",
   "execution_count": 10,
   "metadata": {},
   "outputs": [],
   "source": [
    "def getRegularAssists():\n",
    "    rs_assists = {}\n",
    "    for child in rs_players:\n",
    "        rs_assists[child.tag] = child.find(\"assists\").text\n",
    "    return rs_assists\n",
    "\n",
    "def getPlayoffsAssists():\n",
    "    po_assists = {}\n",
    "    for child in po_players:\n",
    "        po_assists[child.tag] = child.find(\"assists\").text\n",
    "    return po_assists\n",
    "\n",
    "def getTotalAssists():\n",
    "    total_assists = {}\n",
    "    for child in rs_players:\n",
    "        total_assists[child.tag] = int(rs_assists[child.tag]) + int(po_assists[child.tag])\n",
    "    return total_assists\n",
    "    \n",
    "def barAssists():\n",
    "    plt.bar(range(len(total_assists)), list(total_assists.values()), align='center')\n",
    "    plt.xticks(range(len(total_assists)), list(total_assists.keys()))\n",
    "    plt.show()\n",
    "\n",
    "def orderTotalAssists():\n",
    "    sorted_assists = sorted(total_assists.items(), key=operator.itemgetter(1))\n",
    "    return sorted_assists"
   ]
  },
  {
   "cell_type": "markdown",
   "metadata": {},
   "source": [
    "<h1> Statistiques : passes </h1>"
   ]
  },
  {
   "cell_type": "code",
   "execution_count": 11,
   "metadata": {},
   "outputs": [
    {
     "name": "stdout",
     "output_type": "stream",
     "text": [
      "\n",
      "Passes décisives en ordre: [('hakeem', 3516), ('shaq', 3608), ('dirk', 4011), ('duncan', 4989), ('wilt', 5316), ('karl_malone', 5858), ('garnett', 5916), ('kareem', 6427), ('michael', 6655), ('kobe', 7346), ('lebron', 10985), ('magic', 12487)]\n"
     ]
    },
    {
     "data": {
      "image/png": "[encoded data removed]",
      "text/plain": [
       "<Figure size 432x288 with 1 Axes>"
      ]
     },
     "metadata": {
      "needs_background": "light"
     },
     "output_type": "display_data"
    }
   ],
   "source": [
    "rs_assists = getRegularAssists()\n",
    "po_assists = getPlayoffsAssists()\n",
    "total_assists = getTotalAssists()\n",
    "sorted_assists = orderTotalAssists()\n",
    "print(\"\\nPasses décisives en ordre: \" + str(sorted_assists))\n",
    "barAssists()"
   ]
  },
  {
   "cell_type": "code",
   "execution_count": null,
   "metadata": {},
   "outputs": [],
   "source": []
  }
 ],
 "metadata": {
  "kernelspec": {
   "display_name": "Python 3",
   "language": "python",
   "name": "python3"
  },
  "language_info": {
   "codemirror_mode": {
    "name": "ipython",
    "version": 3
   },
   "file_extension": ".py",
   "mimetype": "text/x-python",
   "name": "python",
   "nbconvert_exporter": "python",
   "pygments_lexer": "ipython3",
   "version": "3.7.3"
  }
 },
 "nbformat": 4,
 "nbformat_minor": 2
}
