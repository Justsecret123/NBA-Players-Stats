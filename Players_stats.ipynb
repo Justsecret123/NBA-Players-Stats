{
 "cells": [
  {
   "cell_type": "markdown",
   "metadata": {},
   "source": [
    "<h1> Libraries and files </h1>"
   ]
  },
  {
   "cell_type": "code",
   "execution_count": 1,
   "metadata": {},
   "outputs": [],
   "source": [
    "import xml.etree.ElementTree as ET\n",
    "tree = ET.parse(\"Data.XML\")"
   ]
  },
  {
   "cell_type": "markdown",
   "metadata": {},
   "source": [
    "<h3> Root </h3>"
   ]
  },
  {
   "cell_type": "code",
   "execution_count": 2,
   "metadata": {},
   "outputs": [],
   "source": [
    "root = tree.getroot()"
   ]
  },
  {
   "cell_type": "markdown",
   "metadata": {},
   "source": [
    "<h3> Operations : points </h3>"
   ]
  },
  {
   "cell_type": "code",
   "execution_count": 3,
   "metadata": {},
   "outputs": [],
   "source": [
    "import matplotlib.pyplot as plt\n",
    "import operator\n",
    "\n",
    "\n",
    "rs_players = root.findall(\"regular_season/\")\n",
    "po_players = root.findall(\"playoffs/\")\n",
    "totals = root.findall(\"both/\")\n",
    "\n",
    "def displayPlayers():\n",
    "    print(\"\\nPlayers list: \")\n",
    "    for child in rs_players:\n",
    "        print(child.tag)\n",
    "\n",
    "def getRegularPoints():\n",
    "    rs_points = {}\n",
    "    for child in rs_players:\n",
    "        rs_points[child.tag] = child.find(\"points\").text\n",
    "    return rs_points\n",
    "\n",
    "def getPlayoffsPoints():\n",
    "    po_points = {}\n",
    "    for child in po_players:\n",
    "        po_points[child.tag] = child.find(\"points\").text\n",
    "    return po_points\n",
    "\n",
    "def getTotalPoints():\n",
    "    total_points = {}\n",
    "    for child in rs_players:\n",
    "        total_points[child.tag] = int(rs_points[child.tag]) + int(po_points[child.tag])\n",
    "    return total_points\n",
    "    \n",
    "def barPoints():\n",
    "    plt.bar(range(len(total_points)), list(total_points.values()), align='center')\n",
    "    plt.xticks(range(len(total_points)), list(total_points.keys()))\n",
    "    plt.show()\n",
    "\n",
    "def orderTotalPoints():\n",
    "    sorted_points = sorted(total_points.items(), key=operator.itemgetter(1), reverse=True)\n",
    "    return sorted_points\n",
    "\n",
    "def printSortedPoints():\n",
    "    for player in sorted_points:\n",
    "        print(\"\\t\", player)\n",
    "        \n",
    "def updateTotalPoints():\n",
    "    for player in total_points:\n",
    "        root.find(\"both/\"+str(player)+\"/points\").text = str(total_points[player])\n",
    "    tree.write(\"Data.XML\")"
   ]
  },
  {
   "cell_type": "markdown",
   "metadata": {},
   "source": [
    "<h1> Stats: points </h1>"
   ]
  },
  {
   "cell_type": "code",
   "execution_count": 4,
   "metadata": {},
   "outputs": [
    {
     "name": "stdout",
     "output_type": "stream",
     "text": [
      "\n",
      "Points by descending order: \n",
      "\n",
      "\t ('kareem', 44149)\n",
      "\t ('karl_malone', 41689)\n",
      "\t ('lebron', 40998)\n",
      "\t ('kobe', 39283)\n",
      "\t ('michael', 38279)\n",
      "\t ('dirk', 35223)\n",
      "\t ('wilt', 35026)\n",
      "\t ('shaq', 33846)\n",
      "\t ('duncan', 31668)\n",
      "\t ('hakeem', 30701)\n",
      "\t ('garnett', 28672)\n",
      "\t ('magic', 21408)\n"
     ]
    },
    {
     "data": {
      "image/png": "[encoded data removed]",
      "text/plain": [
       "<Figure size 432x288 with 1 Axes>"
      ]
     },
     "metadata": {
      "needs_background": "light"
     },
     "output_type": "display_data"
    },
    {
     "name": "stdout",
     "output_type": "stream",
     "text": [
      "\n",
      "Players list: \n",
      "lebron\n",
      "michael\n",
      "kareem\n",
      "kobe\n",
      "karl_malone\n",
      "wilt\n",
      "shaq\n",
      "duncan\n",
      "dirk\n",
      "hakeem\n",
      "garnett\n",
      "magic\n"
     ]
    }
   ],
   "source": [
    "rs_points = getRegularPoints()\n",
    "po_points = getPlayoffsPoints()\n",
    "total_points = getTotalPoints()\n",
    "sorted_points = orderTotalPoints()\n",
    "#print(str(rs_points))\n",
    "#print(str(po_points))\n",
    "#print(str(total_points))\n",
    "print(\"\\nPoints by descending order: \\n\")\n",
    "printSortedPoints()\n",
    "barPoints()\n",
    "displayPlayers()\n",
    "updateTotalPoints()"
   ]
  },
  {
   "cell_type": "markdown",
   "metadata": {},
   "source": [
    "<h3> Operations: assists </h3>"
   ]
  },
  {
   "cell_type": "code",
   "execution_count": 5,
   "metadata": {},
   "outputs": [],
   "source": [
    "def getRegularAssists():\n",
    "    rs_assists = {}\n",
    "    for child in rs_players:\n",
    "        rs_assists[child.tag] = child.find(\"assists\").text\n",
    "    return rs_assists\n",
    "\n",
    "def getPlayoffsAssists():\n",
    "    po_assists = {}\n",
    "    for child in po_players:\n",
    "        po_assists[child.tag] = child.find(\"assists\").text\n",
    "    return po_assists\n",
    "\n",
    "def getTotalAssists():\n",
    "    total_assists = {}\n",
    "    for child in rs_players:\n",
    "        total_assists[child.tag] = int(rs_assists[child.tag]) + int(po_assists[child.tag])\n",
    "    return total_assists\n",
    "\n",
    "# x = range(len(total_assists)) = players count\n",
    "# y = list(total_assists.values()) = assists count for each players     \n",
    "def barAssists():\n",
    "    plt.bar(x=range(len(total_assists)), height=list(total_assists.values()), align='center', width=0.5, tick_label=list(total_assists.keys()))\n",
    "    #plt.xticks(range(len(total_assists)), labels=list(total_assists.keys()))\n",
    "    plt.show()\n",
    "\n",
    "def orderTotalAssists():\n",
    "    sorted_assists = sorted(total_assists.items(), key=operator.itemgetter(1), reverse=True)\n",
    "    return sorted_assists\n",
    "\n",
    "def printSortedAssists():\n",
    "    for player in sorted_assists:\n",
    "        print(\"\\t\",player)\n",
    "\n",
    "def updateTotalAssists():\n",
    "    for player in total_assists:\n",
    "        root.find(\"both/\"+str(player)+\"/assists\").text = str(total_assists[player])\n",
    "    tree.write(\"Data.XML\")"
   ]
  },
  {
   "cell_type": "markdown",
   "metadata": {},
   "source": [
    "<h1> Stats: assists </h1>"
   ]
  },
  {
   "cell_type": "code",
   "execution_count": 6,
   "metadata": {},
   "outputs": [
    {
     "name": "stdout",
     "output_type": "stream",
     "text": [
      "\n",
      "Assists by descending order: \n",
      "\n",
      "\t ('magic', 12487)\n",
      "\t ('lebron', 10985)\n",
      "\t ('kobe', 7346)\n",
      "\t ('michael', 6655)\n",
      "\t ('kareem', 6427)\n",
      "\t ('garnett', 5916)\n",
      "\t ('karl_malone', 5858)\n",
      "\t ('wilt', 5316)\n",
      "\t ('duncan', 4989)\n",
      "\t ('dirk', 4011)\n",
      "\t ('shaq', 3608)\n",
      "\t ('hakeem', 3516)\n"
     ]
    },
    {
     "data": {
      "image/png": "[encoded data removed]",
      "text/plain": [
       "<Figure size 432x288 with 1 Axes>"
      ]
     },
     "metadata": {
      "needs_background": "light"
     },
     "output_type": "display_data"
    }
   ],
   "source": [
    "rs_assists = getRegularAssists()\n",
    "po_assists = getPlayoffsAssists()\n",
    "total_assists = getTotalAssists()\n",
    "sorted_assists = orderTotalAssists()\n",
    "print(\"\\nAssists by descending order: \\n\")\n",
    "printSortedAssists()\n",
    "barAssists()\n",
    "updateTotalAssists()"
   ]
  },
  {
   "cell_type": "markdown",
   "metadata": {},
   "source": [
    "<h2> Operations: rebounds </h2>"
   ]
  },
  {
   "cell_type": "code",
   "execution_count": 7,
   "metadata": {},
   "outputs": [],
   "source": [
    "def getRegularRebounds():\n",
    "    rs_rebounds = {}\n",
    "    for child in rs_players:\n",
    "        rs_rebounds[child.tag] = child.find(\"rebounds\").text\n",
    "    return rs_rebounds\n",
    "\n",
    "def getPlayoffsRebounds():\n",
    "    po_rebounds = {}\n",
    "    for child in po_players:\n",
    "        po_rebounds[child.tag] = child.find(\"rebounds\").text\n",
    "    return po_rebounds\n",
    "\n",
    "def getTotalRebounds():\n",
    "    total_rebounds = {}\n",
    "    for child in rs_players:\n",
    "        total_rebounds[child.tag] = int(rs_rebounds[child.tag]) + int(po_rebounds[child.tag])\n",
    "    return total_rebounds\n",
    "\n",
    "# x = range(len(total_rebounds)) = players count\n",
    "# y = list(total_rebounds.values()) = rebounds count for each players     \n",
    "def barRebounds():\n",
    "    plt.bar(x=range(len(total_rebounds)), height=list(total_rebounds.values()), align='center', width=0.5, tick_label=list(total_rebounds.keys()))\n",
    "    #plt.xticks(range(len(total_rebounds)), labels=list(total_rebounds.keys()))\n",
    "    plt.show()\n",
    "\n",
    "def orderTotalRebounds():\n",
    "    sorted_rebounds = sorted(total_rebounds.items(), key=operator.itemgetter(1), reverse=True)\n",
    "    return sorted_rebounds\n",
    "\n",
    "def printSortedRebounds():\n",
    "    for player in sorted_rebounds:\n",
    "        print(\"\\t\",player)\n",
    "\n",
    "def updateTotalRebounds():\n",
    "    for player in total_rebounds:\n",
    "        root.find(\"both/\"+str(player)+\"/rebounds\").text = str(total_rebounds[player])\n",
    "    tree.write(\"Data.XML\")"
   ]
  },
  {
   "cell_type": "markdown",
   "metadata": {},
   "source": [
    "<h1> Stats: rebounds </h1>"
   ]
  },
  {
   "cell_type": "code",
   "execution_count": 8,
   "metadata": {},
   "outputs": [
    {
     "name": "stdout",
     "output_type": "stream",
     "text": [
      "\n",
      "Rebounds by descending order: \n",
      "\n",
      "\t ('wilt', 27837)\n",
      "\t ('kareem', 19921)\n",
      "\t ('duncan', 17950)\n",
      "\t ('karl_malone', 17030)\n",
      "\t ('garnett', 16196)\n",
      "\t ('shaq', 15607)\n",
      "\t ('hakeem', 15369)\n",
      "\t ('dirk', 12935)\n",
      "\t ('lebron', 11475)\n",
      "\t ('kobe', 8166)\n",
      "\t ('magic', 8024)\n",
      "\t ('michael', 7824)\n"
     ]
    },
    {
     "data": {
      "image/png": "[encoded data removed]",
      "text/plain": [
       "<Figure size 432x288 with 1 Axes>"
      ]
     },
     "metadata": {
      "needs_background": "light"
     },
     "output_type": "display_data"
    }
   ],
   "source": [
    "rs_rebounds = getRegularRebounds()\n",
    "po_rebounds = getPlayoffsRebounds()\n",
    "total_rebounds = getTotalRebounds()\n",
    "sorted_rebounds = orderTotalRebounds()\n",
    "print(\"\\nRebounds by descending order: \\n\")\n",
    "printSortedRebounds()\n",
    "barRebounds()\n",
    "updateTotalRebounds()"
   ]
  },
  {
   "cell_type": "markdown",
   "metadata": {},
   "source": [
    "<h1> Operations : steals </h1>"
   ]
  },
  {
   "cell_type": "code",
   "execution_count": 9,
   "metadata": {},
   "outputs": [],
   "source": [
    "def getRegularSteals():\n",
    "    rs_steals = {}\n",
    "    for child in rs_players:\n",
    "        rs_steals[child.tag] = child.find(\"steals\").text\n",
    "    return rs_steals\n",
    "\n",
    "def getPlayoffsSteals():\n",
    "    po_steals = {}\n",
    "    for child in po_players:\n",
    "        po_steals[child.tag] = child.find(\"steals\").text\n",
    "    return po_steals\n",
    "\n",
    "def getTotalSteals():\n",
    "    total_steals = {}\n",
    "    for child in rs_players:\n",
    "        total_steals[child.tag] = int(rs_steals[child.tag]) + int(po_steals[child.tag])\n",
    "    return total_steals\n",
    "\n",
    "# x = range(len(total_steals)) = players count\n",
    "# y = list(total_steals.values()) = steals count for each players     \n",
    "def barSteals():\n",
    "    plt.bar(x=range(len(total_steals)), height=list(total_steals.values()), align='center', width=0.5, tick_label=list(total_steals.keys()))\n",
    "    #plt.xticks(range(len(total_steals)), labels=list(total_steals.keys()))\n",
    "    plt.show()\n",
    "\n",
    "def orderTotalSteals():\n",
    "    sorted_steals = sorted(total_steals.items(), key=operator.itemgetter(1), reverse=True)\n",
    "    return sorted_steals\n",
    "\n",
    "def printSortedSteals():\n",
    "    for player in sorted_steals:\n",
    "        print(\"\\t\",player)\n",
    "        \n",
    "def updateTotalSteals():\n",
    "    for player in total_steals:\n",
    "        root.find(\"both/\"+str(player)+\"/steals\").text = str(total_rebounds[player])\n",
    "    tree.write(\"Data.XML\")"
   ]
  },
  {
   "cell_type": "markdown",
   "metadata": {},
   "source": [
    "<h1> Stats: steals </h1>"
   ]
  },
  {
   "cell_type": "code",
   "execution_count": 10,
   "metadata": {},
   "outputs": [
    {
     "name": "stdout",
     "output_type": "stream",
     "text": [
      "\n",
      "Steals by descending order: \n",
      "\n",
      "\t ('lebron', 2430)\n",
      "\t ('hakeem', 2407)\n",
      "\t ('karl_malone', 2343)\n",
      "\t ('michael', 2320)\n",
      "\t ('kobe', 2254)\n",
      "\t ('magic', 2082)\n",
      "\t ('garnett', 2037)\n",
      "\t ('dirk', 1359)\n",
      "\t ('kareem', 1349)\n",
      "\t ('duncan', 1193)\n",
      "\t ('shaq', 856)\n",
      "\t ('wilt', 0)\n"
     ]
    },
    {
     "data": {
      "image/png": "[encoded data removed]",
      "text/plain": [
       "<Figure size 432x288 with 1 Axes>"
      ]
     },
     "metadata": {
      "needs_background": "light"
     },
     "output_type": "display_data"
    }
   ],
   "source": [
    "rs_steals = getRegularSteals()\n",
    "po_steals = getPlayoffsSteals()\n",
    "total_steals = getTotalSteals()\n",
    "sorted_steals = orderTotalSteals()\n",
    "print(\"\\nSteals by descending order: \\n\")\n",
    "printSortedSteals()\n",
    "barSteals()\n",
    "updateTotalSteals()"
   ]
  },
  {
   "cell_type": "markdown",
   "metadata": {},
   "source": [
    "<h1> Operations : blocks </h1>"
   ]
  },
  {
   "cell_type": "code",
   "execution_count": 11,
   "metadata": {},
   "outputs": [],
   "source": [
    "def getRegularBlocks():\n",
    "    rs_blocks = {}\n",
    "    for child in rs_players:\n",
    "        rs_blocks[child.tag] = child.find(\"blocks\").text\n",
    "    return rs_blocks\n",
    "\n",
    "def getPlayoffsBlocks():\n",
    "    po_blocks = {}\n",
    "    for child in po_players:\n",
    "        po_blocks[child.tag] = child.find(\"blocks\").text\n",
    "    return po_blocks\n",
    "\n",
    "def getTotalBlocks():\n",
    "    total_blocks = {}\n",
    "    for child in rs_players:\n",
    "        total_blocks[child.tag] = int(rs_blocks[child.tag]) + int(po_blocks[child.tag])\n",
    "    return total_blocks\n",
    "\n",
    "# x = range(len(total_blocks)) = players count\n",
    "# y = list(total_blocks.values()) = blocks count for each players     \n",
    "def barBlocks():\n",
    "    plt.bar(x=range(len(total_blocks)), height=list(total_blocks.values()), align='center', width=0.5, tick_label=list(total_blocks.keys()))\n",
    "    #plt.xticks(range(len(total_blocks)), labels=list(total_blocks.keys()))\n",
    "    plt.show()\n",
    "\n",
    "def orderTotalBlocks():\n",
    "    sorted_blocks = sorted(total_blocks.items(), key=operator.itemgetter(1), reverse=True)\n",
    "    return sorted_blocks\n",
    "\n",
    "def printSortedBlocks():\n",
    "    for player in sorted_blocks:\n",
    "        print(\"\\t\",player)\n",
    "\n",
    "def updateTotalBlocks():\n",
    "    for player in total_blocks:\n",
    "        root.find(\"both/\"+str(player)+\"/blocks\").text = str(total_blocks[player])\n",
    "    tree.write(\"Data.XML\")"
   ]
  },
  {
   "cell_type": "markdown",
   "metadata": {},
   "source": [
    "<h1> Stats : blocks </h1>"
   ]
  },
  {
   "cell_type": "code",
   "execution_count": 12,
   "metadata": {},
   "outputs": [
    {
     "name": "stdout",
     "output_type": "stream",
     "text": [
      "\n",
      "Blocks by descending order: \n",
      "\n",
      "\t ('hakeem', 4292)\n",
      "\t ('kareem', 3665)\n",
      "\t ('duncan', 3588)\n",
      "\t ('shaq', 3191)\n",
      "\t ('garnett', 2223)\n",
      "\t ('dirk', 1410)\n",
      "\t ('karl_malone', 1280)\n",
      "\t ('lebron', 1183)\n",
      "\t ('michael', 1051)\n",
      "\t ('kobe', 784)\n",
      "\t ('magic', 438)\n",
      "\t ('wilt', 0)\n"
     ]
    },
    {
     "data": {
      "image/png": "[encoded data removed]",
      "text/plain": [
       "<Figure size 432x288 with 1 Axes>"
      ]
     },
     "metadata": {
      "needs_background": "light"
     },
     "output_type": "display_data"
    }
   ],
   "source": [
    "rs_blocks = getRegularBlocks()\n",
    "po_blocks = getPlayoffsBlocks()\n",
    "total_blocks = getTotalBlocks()\n",
    "sorted_blocks = orderTotalBlocks()\n",
    "print(\"\\nBlocks by descending order: \\n\")\n",
    "printSortedBlocks()\n",
    "barBlocks()\n",
    "updateTotalBlocks()"
   ]
  },
  {
   "cell_type": "markdown",
   "metadata": {},
   "source": [
    "<h1> Operations: totals </h1>"
   ]
  },
  {
   "cell_type": "code",
   "execution_count": 13,
   "metadata": {},
   "outputs": [],
   "source": [
    "def getRegularTotals():\n",
    "    rs_totals = {}\n",
    "    for child in rs_players:\n",
    "        rs_totals[child.tag] = int(rs_points[child.tag]) + int(rs_assists[child.tag]) + int(rs_blocks[child.tag]) + int(rs_steals[child.tag]) + int(rs_rebounds[child.tag])\n",
    "    return rs_totals\n",
    "\n",
    "def getPlayoffsTotals():\n",
    "    po_totals = {}\n",
    "    for child in po_players:\n",
    "        po_totals[child.tag] = int(po_points[child.tag]) + int(po_assists[child.tag]) + int(po_blocks[child.tag]) + int(po_steals[child.tag]) + int(rs_rebounds[child.tag])\n",
    "    return po_totals\n",
    "\n",
    "def getTotalTotals():\n",
    "    total_totals = {}\n",
    "    for child in rs_players:\n",
    "        total_totals[child.tag] = int(total_points[child.tag]) + int(total_assists[child.tag]) + int(total_rebounds[child.tag]) + int(total_steals[child.tag]) + int(total_blocks[child.tag])\n",
    "    return total_totals\n",
    "\n",
    "# x = range(len(total_totals)) = players count\n",
    "# y = list(total_totals.values()) = totals count for each players     \n",
    "def barTotals():\n",
    "    plt.bar(x=range(len(total_totals)), height=list(total_totals.values()), align='center', width=0.5, tick_label=list(total_totals.keys()))\n",
    "    #plt.xticks(range(len(total_totals)), labels=list(total_totals.keys()))\n",
    "    plt.show()\n",
    "\n",
    "def orderTotalTotals():\n",
    "    sorted_totals = sorted(total_totals.items(), key=operator.itemgetter(1), reverse=True)\n",
    "    return sorted_totals\n",
    "\n",
    "def printSortedTotals():\n",
    "    for player in sorted_totals:\n",
    "        print(\"\\t\",player)\n",
    "\n",
    "def updateTotals():\n",
    "    for player in total_totals:\n",
    "        root.find(\"both/\"+str(player)).set(\"total\",str(total_totals[player]))\n",
    "    tree.write(\"Data.XML\")"
   ]
  },
  {
   "cell_type": "markdown",
   "metadata": {},
   "source": [
    "<h1> Stats: totals </h1>"
   ]
  },
  {
   "cell_type": "code",
   "execution_count": 14,
   "metadata": {},
   "outputs": [
    {
     "name": "stdout",
     "output_type": "stream",
     "text": [
      "\n",
      "Totals by descending order: \n",
      "\n",
      "\t ('kareem', 75511)\n",
      "\t ('karl_malone', 68200)\n",
      "\t ('wilt', 68179)\n",
      "\t ('lebron', 67071)\n",
      "\t ('duncan', 59388)\n",
      "\t ('kobe', 57833)\n",
      "\t ('shaq', 57108)\n",
      "\t ('hakeem', 56285)\n",
      "\t ('michael', 56129)\n",
      "\t ('garnett', 55044)\n",
      "\t ('dirk', 54938)\n",
      "\t ('magic', 44439)\n"
     ]
    },
    {
     "data": {
      "image/png": "[encoded data removed]",
      "text/plain": [
       "<Figure size 432x288 with 1 Axes>"
      ]
     },
     "metadata": {
      "needs_background": "light"
     },
     "output_type": "display_data"
    }
   ],
   "source": [
    "rs_totals = getRegularTotals()\n",
    "po_totals = getPlayoffsTotals()\n",
    "total_totals = getTotalTotals()\n",
    "sorted_totals = orderTotalTotals()\n",
    "print(\"\\nTotals by descending order: \\n\")\n",
    "printSortedTotals()\n",
    "barTotals()\n",
    "updateTotals()"
   ]
  },
  {
   "cell_type": "code",
   "execution_count": null,
   "metadata": {},
   "outputs": [],
   "source": []
  }
 ],
 "metadata": {
  "kernelspec": {
   "display_name": "Python 3",
   "language": "python",
   "name": "python3"
  },
  "language_info": {
   "codemirror_mode": {
    "name": "ipython",
    "version": 3
   },
   "file_extension": ".py",
   "mimetype": "text/x-python",
   "name": "python",
   "nbconvert_exporter": "python",
   "pygments_lexer": "ipython3",
   "version": "3.7.3"
  }
 },
 "nbformat": 4,
 "nbformat_minor": 2
}
