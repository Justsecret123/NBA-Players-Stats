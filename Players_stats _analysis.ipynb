{
 "cells": [
  {
   "cell_type": "markdown",
   "metadata": {},
   "source": [
    "<div class=\"alert alert-info\">\n",
    "    <center> \n",
    "        <h1> Players stats </h1> \n",
    "    </center>\n",
    "</div>"
   ]
  },
  {
   "cell_type": "markdown",
   "metadata": {},
   "source": [
    "<h1> Libraries </h1>"
   ]
  },
  {
   "cell_type": "code",
   "execution_count": 1,
   "metadata": {},
   "outputs": [],
   "source": [
    "import time\n",
    "import pandas as pd\n",
    "import matplotlib.pyplot as plt\n",
    "import operator\n",
    "import numpy as np\n",
    "import seaborn as sns\n",
    "import ipywidgets as widgets\n",
    "from IPython.display import display"
   ]
  },
  {
   "cell_type": "markdown",
   "metadata": {},
   "source": [
    "<h1> Files </h1>"
   ]
  },
  {
   "cell_type": "code",
   "execution_count": 2,
   "metadata": {},
   "outputs": [
    {
     "data": {
      "text/html": [
       "<div>\n",
       "<style scoped>\n",
       "    .dataframe tbody tr th:only-of-type {\n",
       "        vertical-align: middle;\n",
       "    }\n",
       "\n",
       "    .dataframe tbody tr th {\n",
       "        vertical-align: top;\n",
       "    }\n",
       "\n",
       "    .dataframe thead th {\n",
       "        text-align: right;\n",
       "    }\n",
       "</style>\n",
       "<table border=\"1\" class=\"dataframe\">\n",
       "  <thead>\n",
       "    <tr style=\"text-align: right;\">\n",
       "      <th></th>\n",
       "      <th>Points</th>\n",
       "      <th>Assists</th>\n",
       "      <th>Rebounds</th>\n",
       "      <th>Steals</th>\n",
       "      <th>Blocks</th>\n",
       "      <th>Primary Position</th>\n",
       "    </tr>\n",
       "    <tr>\n",
       "      <th>Player</th>\n",
       "      <th></th>\n",
       "      <th></th>\n",
       "      <th></th>\n",
       "      <th></th>\n",
       "      <th></th>\n",
       "      <th></th>\n",
       "    </tr>\n",
       "  </thead>\n",
       "  <tbody>\n",
       "    <tr>\n",
       "      <th>LeBron</th>\n",
       "      <td>7491</td>\n",
       "      <td>1871</td>\n",
       "      <td>2348</td>\n",
       "      <td>445</td>\n",
       "      <td>250</td>\n",
       "      <td>3</td>\n",
       "    </tr>\n",
       "    <tr>\n",
       "      <th>MJ</th>\n",
       "      <td>5987</td>\n",
       "      <td>1022</td>\n",
       "      <td>1152</td>\n",
       "      <td>376</td>\n",
       "      <td>158</td>\n",
       "      <td>2</td>\n",
       "    </tr>\n",
       "    <tr>\n",
       "      <th>Kareem</th>\n",
       "      <td>5762</td>\n",
       "      <td>767</td>\n",
       "      <td>2481</td>\n",
       "      <td>189</td>\n",
       "      <td>476</td>\n",
       "      <td>5</td>\n",
       "    </tr>\n",
       "    <tr>\n",
       "      <th>Kobe</th>\n",
       "      <td>5640</td>\n",
       "      <td>1040</td>\n",
       "      <td>1119</td>\n",
       "      <td>310</td>\n",
       "      <td>144</td>\n",
       "      <td>2</td>\n",
       "    </tr>\n",
       "    <tr>\n",
       "      <th>Karl_Malone</th>\n",
       "      <td>4761</td>\n",
       "      <td>610</td>\n",
       "      <td>2062</td>\n",
       "      <td>258</td>\n",
       "      <td>135</td>\n",
       "      <td>4</td>\n",
       "    </tr>\n",
       "  </tbody>\n",
       "</table>\n",
       "</div>"
      ],
      "text/plain": [
       "             Points  Assists  Rebounds  Steals  Blocks  Primary Position\n",
       "Player                                                                  \n",
       "LeBron         7491     1871      2348     445     250                 3\n",
       "MJ             5987     1022      1152     376     158                 2\n",
       "Kareem         5762      767      2481     189     476                 5\n",
       "Kobe           5640     1040      1119     310     144                 2\n",
       "Karl_Malone    4761      610      2062     258     135                 4"
      ]
     },
     "execution_count": 2,
     "metadata": {},
     "output_type": "execute_result"
    }
   ],
   "source": [
    "regular_season = pd.read_csv(\"Data_regular_season.csv\")\n",
    "regular_season = regular_season.set_index('Player')\n",
    "playoffs = pd.read_csv(\"Data_playoffs.csv\")\n",
    "playoffs = playoffs.set_index('Player')\n",
    "\n",
    "playoffs.head(5)"
   ]
  },
  {
   "cell_type": "markdown",
   "metadata": {},
   "source": [
    "<h2> Totals : </h2>"
   ]
  },
  {
   "cell_type": "code",
   "execution_count": 3,
   "metadata": {},
   "outputs": [
    {
     "data": {
      "text/html": [
       "<div>\n",
       "<style scoped>\n",
       "    .dataframe tbody tr th:only-of-type {\n",
       "        vertical-align: middle;\n",
       "    }\n",
       "\n",
       "    .dataframe tbody tr th {\n",
       "        vertical-align: top;\n",
       "    }\n",
       "\n",
       "    .dataframe thead th {\n",
       "        text-align: right;\n",
       "    }\n",
       "</style>\n",
       "<table border=\"1\" class=\"dataframe\">\n",
       "  <thead>\n",
       "    <tr style=\"text-align: right;\">\n",
       "      <th></th>\n",
       "      <th>Points</th>\n",
       "      <th>Assists</th>\n",
       "      <th>Rebounds</th>\n",
       "      <th>Steals</th>\n",
       "      <th>Blocks</th>\n",
       "      <th>Primary Position</th>\n",
       "    </tr>\n",
       "    <tr>\n",
       "      <th>Player</th>\n",
       "      <th></th>\n",
       "      <th></th>\n",
       "      <th></th>\n",
       "      <th></th>\n",
       "      <th></th>\n",
       "      <th></th>\n",
       "    </tr>\n",
       "  </thead>\n",
       "  <tbody>\n",
       "    <tr>\n",
       "      <th>LeBron</th>\n",
       "      <td>41732</td>\n",
       "      <td>11217</td>\n",
       "      <td>11753</td>\n",
       "      <td>2460</td>\n",
       "      <td>1207</td>\n",
       "      <td>3</td>\n",
       "    </tr>\n",
       "    <tr>\n",
       "      <th>MJ</th>\n",
       "      <td>38279</td>\n",
       "      <td>6655</td>\n",
       "      <td>7824</td>\n",
       "      <td>2320</td>\n",
       "      <td>1051</td>\n",
       "      <td>2</td>\n",
       "    </tr>\n",
       "    <tr>\n",
       "      <th>Kareem</th>\n",
       "      <td>44149</td>\n",
       "      <td>6427</td>\n",
       "      <td>19921</td>\n",
       "      <td>1349</td>\n",
       "      <td>3665</td>\n",
       "      <td>5</td>\n",
       "    </tr>\n",
       "    <tr>\n",
       "      <th>Kobe</th>\n",
       "      <td>39283</td>\n",
       "      <td>7346</td>\n",
       "      <td>8166</td>\n",
       "      <td>2254</td>\n",
       "      <td>784</td>\n",
       "      <td>2</td>\n",
       "    </tr>\n",
       "    <tr>\n",
       "      <th>Karl_Malone</th>\n",
       "      <td>41689</td>\n",
       "      <td>5858</td>\n",
       "      <td>17030</td>\n",
       "      <td>2343</td>\n",
       "      <td>1280</td>\n",
       "      <td>4</td>\n",
       "    </tr>\n",
       "  </tbody>\n",
       "</table>\n",
       "</div>"
      ],
      "text/plain": [
       "             Points  Assists  Rebounds  Steals  Blocks  Primary Position\n",
       "Player                                                                  \n",
       "LeBron        41732    11217     11753    2460    1207                 3\n",
       "MJ            38279     6655      7824    2320    1051                 2\n",
       "Kareem        44149     6427     19921    1349    3665                 5\n",
       "Kobe          39283     7346      8166    2254     784                 2\n",
       "Karl_Malone   41689     5858     17030    2343    1280                 4"
      ]
     },
     "execution_count": 3,
     "metadata": {},
     "output_type": "execute_result"
    }
   ],
   "source": [
    "totals = regular_season + playoffs\n",
    "totals[\"Primary Position\"] = np.int64(totals[\"Primary Position\"]*0.5)\n",
    "totals.head()"
   ]
  },
  {
   "cell_type": "markdown",
   "metadata": {},
   "source": [
    "<h2> Function: create Heatmap </h2>"
   ]
  },
  {
   "cell_type": "code",
   "execution_count": 4,
   "metadata": {},
   "outputs": [],
   "source": [
    "def create_heatmap(totals, size=(10,5), annotations=True):\n",
    "    correlation_matrix = totals.corr()\n",
    "   \n",
    "    plt.figure(figsize=size)\n",
    "    color_palette = sns.color_palette(\"light:#4d91ff\", as_cmap=True)\n",
    "    ax = sns.heatmap(data=correlation_matrix, cmap=color_palette, annot=annotations)\n",
    "    plt.title(\"Heatmap: correlation matrix\")\n",
    "\n",
    "    plt.show()"
   ]
  },
  {
   "cell_type": "markdown",
   "metadata": {},
   "source": [
    "<h2> Heatmap </h2>"
   ]
  },
  {
   "cell_type": "code",
   "execution_count": 5,
   "metadata": {},
   "outputs": [],
   "source": [
    "heatmap_button = widgets.Button(\n",
    "    description=\"Show heatmap\",\n",
    "    button_style=\"info\"\n",
    ")\n",
    "\n",
    "heatmap_show_annotations = widgets.Checkbox(\n",
    "    value=True,\n",
    "    description=\"Show annotations\"\n",
    ")\n",
    "\n",
    "heatmap_width = widgets.IntSlider(\n",
    "    value=10,\n",
    "    min=5,\n",
    "    max=10,\n",
    "    description=\"Width\"\n",
    ")\n",
    "\n",
    "heatmap_height = widgets.IntSlider(\n",
    "    value=5, \n",
    "    min=5,\n",
    "    max=10,\n",
    "    description=\"Height\"\n",
    ")\n",
    "\n",
    "heatmap_output = widgets.Output()"
   ]
  },
  {
   "cell_type": "code",
   "execution_count": 6,
   "metadata": {},
   "outputs": [],
   "source": [
    "@heatmap_button.on_click\n",
    "def on_click(self): \n",
    "    heatmap_output.clear_output()\n",
    "    annot = heatmap_show_annotations.value\n",
    "    figsize = (heatmap_width.value,heatmap_height.value)\n",
    "    with heatmap_output:\n",
    "        create_heatmap(totals, size=figsize,annotations=annot)"
   ]
  },
  {
   "cell_type": "code",
   "execution_count": 7,
   "metadata": {},
   "outputs": [
    {
     "data": {
      "application/vnd.jupyter.widget-view+json": {
       "model_id": "d9997de89e834e4eb45824d6b1077953",
       "version_major": 2,
       "version_minor": 0
      },
      "text/plain": [
       "Checkbox(value=True, description='Show annotations')"
      ]
     },
     "metadata": {},
     "output_type": "display_data"
    },
    {
     "data": {
      "application/vnd.jupyter.widget-view+json": {
       "model_id": "ad86962cef4f47a4856bbf970a42a158",
       "version_major": 2,
       "version_minor": 0
      },
      "text/plain": [
       "IntSlider(value=10, description='Width', max=10, min=5)"
      ]
     },
     "metadata": {},
     "output_type": "display_data"
    },
    {
     "data": {
      "application/vnd.jupyter.widget-view+json": {
       "model_id": "c6536386bd7644a6b6f0d6db261b7c39",
       "version_major": 2,
       "version_minor": 0
      },
      "text/plain": [
       "IntSlider(value=5, description='Height', max=10, min=5)"
      ]
     },
     "metadata": {},
     "output_type": "display_data"
    },
    {
     "data": {
      "application/vnd.jupyter.widget-view+json": {
       "model_id": "c947ae6cacd445c8a2d602357a63a343",
       "version_major": 2,
       "version_minor": 0
      },
      "text/plain": [
       "Button(button_style='info', description='Show heatmap', style=ButtonStyle())"
      ]
     },
     "metadata": {},
     "output_type": "display_data"
    },
    {
     "data": {
      "application/vnd.jupyter.widget-view+json": {
       "model_id": "02869c33ba224949af8bbf0cf050aff1",
       "version_major": 2,
       "version_minor": 0
      },
      "text/plain": [
       "Output()"
      ]
     },
     "metadata": {},
     "output_type": "display_data"
    }
   ],
   "source": [
    "display(heatmap_show_annotations, heatmap_width, heatmap_height, heatmap_button, heatmap_output)"
   ]
  },
  {
   "cell_type": "markdown",
   "metadata": {},
   "source": [
    "<h1> Stats grouped by position </h1>"
   ]
  },
  {
   "cell_type": "markdown",
   "metadata": {},
   "source": [
    "<h2> Point guards </h2>"
   ]
  },
  {
   "cell_type": "code",
   "execution_count": 8,
   "metadata": {},
   "outputs": [
    {
     "data": {
      "text/html": [
       "<div>\n",
       "<style scoped>\n",
       "    .dataframe tbody tr th:only-of-type {\n",
       "        vertical-align: middle;\n",
       "    }\n",
       "\n",
       "    .dataframe tbody tr th {\n",
       "        vertical-align: top;\n",
       "    }\n",
       "\n",
       "    .dataframe thead th {\n",
       "        text-align: right;\n",
       "    }\n",
       "</style>\n",
       "<table border=\"1\" class=\"dataframe\">\n",
       "  <thead>\n",
       "    <tr style=\"text-align: right;\">\n",
       "      <th></th>\n",
       "      <th>Points</th>\n",
       "      <th>Assists</th>\n",
       "      <th>Rebounds</th>\n",
       "      <th>Steals</th>\n",
       "      <th>Blocks</th>\n",
       "      <th>Primary Position</th>\n",
       "    </tr>\n",
       "    <tr>\n",
       "      <th>Player</th>\n",
       "      <th></th>\n",
       "      <th></th>\n",
       "      <th></th>\n",
       "      <th></th>\n",
       "      <th></th>\n",
       "      <th></th>\n",
       "    </tr>\n",
       "  </thead>\n",
       "  <tbody>\n",
       "    <tr>\n",
       "      <th>Magic</th>\n",
       "      <td>21408</td>\n",
       "      <td>12487</td>\n",
       "      <td>8024</td>\n",
       "      <td>2082</td>\n",
       "      <td>438</td>\n",
       "      <td>1</td>\n",
       "    </tr>\n",
       "    <tr>\n",
       "      <th>Stockton</th>\n",
       "      <td>22147</td>\n",
       "      <td>17645</td>\n",
       "      <td>4659</td>\n",
       "      <td>3603</td>\n",
       "      <td>365</td>\n",
       "      <td>1</td>\n",
       "    </tr>\n",
       "    <tr>\n",
       "      <th>Robertson</th>\n",
       "      <td>28620</td>\n",
       "      <td>10656</td>\n",
       "      <td>8382</td>\n",
       "      <td>92</td>\n",
       "      <td>8</td>\n",
       "      <td>1</td>\n",
       "    </tr>\n",
       "  </tbody>\n",
       "</table>\n",
       "</div>"
      ],
      "text/plain": [
       "           Points  Assists  Rebounds  Steals  Blocks  Primary Position\n",
       "Player                                                                \n",
       "Magic       21408    12487      8024    2082     438                 1\n",
       "Stockton    22147    17645      4659    3603     365                 1\n",
       "Robertson   28620    10656      8382      92       8                 1"
      ]
     },
     "execution_count": 8,
     "metadata": {},
     "output_type": "execute_result"
    }
   ],
   "source": [
    "point_guards = totals[totals[\"Primary Position\"]==1]\n",
    "point_guards.head(3)"
   ]
  },
  {
   "cell_type": "markdown",
   "metadata": {},
   "source": [
    "<h2> Shooting guards </h2>"
   ]
  },
  {
   "cell_type": "code",
   "execution_count": 9,
   "metadata": {},
   "outputs": [
    {
     "data": {
      "text/html": [
       "<div>\n",
       "<style scoped>\n",
       "    .dataframe tbody tr th:only-of-type {\n",
       "        vertical-align: middle;\n",
       "    }\n",
       "\n",
       "    .dataframe tbody tr th {\n",
       "        vertical-align: top;\n",
       "    }\n",
       "\n",
       "    .dataframe thead th {\n",
       "        text-align: right;\n",
       "    }\n",
       "</style>\n",
       "<table border=\"1\" class=\"dataframe\">\n",
       "  <thead>\n",
       "    <tr style=\"text-align: right;\">\n",
       "      <th></th>\n",
       "      <th>Points</th>\n",
       "      <th>Assists</th>\n",
       "      <th>Rebounds</th>\n",
       "      <th>Steals</th>\n",
       "      <th>Blocks</th>\n",
       "      <th>Primary Position</th>\n",
       "    </tr>\n",
       "    <tr>\n",
       "      <th>Player</th>\n",
       "      <th></th>\n",
       "      <th></th>\n",
       "      <th></th>\n",
       "      <th></th>\n",
       "      <th></th>\n",
       "      <th></th>\n",
       "    </tr>\n",
       "  </thead>\n",
       "  <tbody>\n",
       "    <tr>\n",
       "      <th>MJ</th>\n",
       "      <td>38279</td>\n",
       "      <td>6655</td>\n",
       "      <td>7824</td>\n",
       "      <td>2320</td>\n",
       "      <td>1051</td>\n",
       "      <td>2</td>\n",
       "    </tr>\n",
       "    <tr>\n",
       "      <th>Kobe</th>\n",
       "      <td>39283</td>\n",
       "      <td>7346</td>\n",
       "      <td>8166</td>\n",
       "      <td>2254</td>\n",
       "      <td>784</td>\n",
       "      <td>2</td>\n",
       "    </tr>\n",
       "    <tr>\n",
       "      <th>Dwyane_Wade</th>\n",
       "      <td>27119</td>\n",
       "      <td>6571</td>\n",
       "      <td>5861</td>\n",
       "      <td>1893</td>\n",
       "      <td>1060</td>\n",
       "      <td>2</td>\n",
       "    </tr>\n",
       "  </tbody>\n",
       "</table>\n",
       "</div>"
      ],
      "text/plain": [
       "             Points  Assists  Rebounds  Steals  Blocks  Primary Position\n",
       "Player                                                                  \n",
       "MJ            38279     6655      7824    2320    1051                 2\n",
       "Kobe          39283     7346      8166    2254     784                 2\n",
       "Dwyane_Wade   27119     6571      5861    1893    1060                 2"
      ]
     },
     "execution_count": 9,
     "metadata": {},
     "output_type": "execute_result"
    }
   ],
   "source": [
    "shooting_guards = totals[totals[\"Primary Position\"] == 2]\n",
    "shooting_guards.head(3)"
   ]
  },
  {
   "cell_type": "markdown",
   "metadata": {},
   "source": [
    "<h2> Small forwards </h2>"
   ]
  },
  {
   "cell_type": "code",
   "execution_count": 10,
   "metadata": {},
   "outputs": [
    {
     "data": {
      "text/html": [
       "<div>\n",
       "<style scoped>\n",
       "    .dataframe tbody tr th:only-of-type {\n",
       "        vertical-align: middle;\n",
       "    }\n",
       "\n",
       "    .dataframe tbody tr th {\n",
       "        vertical-align: top;\n",
       "    }\n",
       "\n",
       "    .dataframe thead th {\n",
       "        text-align: right;\n",
       "    }\n",
       "</style>\n",
       "<table border=\"1\" class=\"dataframe\">\n",
       "  <thead>\n",
       "    <tr style=\"text-align: right;\">\n",
       "      <th></th>\n",
       "      <th>Points</th>\n",
       "      <th>Assists</th>\n",
       "      <th>Rebounds</th>\n",
       "      <th>Steals</th>\n",
       "      <th>Blocks</th>\n",
       "      <th>Primary Position</th>\n",
       "    </tr>\n",
       "    <tr>\n",
       "      <th>Player</th>\n",
       "      <th></th>\n",
       "      <th></th>\n",
       "      <th></th>\n",
       "      <th></th>\n",
       "      <th></th>\n",
       "      <th></th>\n",
       "    </tr>\n",
       "  </thead>\n",
       "  <tbody>\n",
       "    <tr>\n",
       "      <th>LeBron</th>\n",
       "      <td>41732</td>\n",
       "      <td>11217</td>\n",
       "      <td>11753</td>\n",
       "      <td>2460</td>\n",
       "      <td>1207</td>\n",
       "      <td>3</td>\n",
       "    </tr>\n",
       "    <tr>\n",
       "      <th>Paul_Pierce</th>\n",
       "      <td>29577</td>\n",
       "      <td>5287</td>\n",
       "      <td>8512</td>\n",
       "      <td>1956</td>\n",
       "      <td>850</td>\n",
       "      <td>3</td>\n",
       "    </tr>\n",
       "    <tr>\n",
       "      <th>Dominique_Wikins</th>\n",
       "      <td>28091</td>\n",
       "      <td>2820</td>\n",
       "      <td>7544</td>\n",
       "      <td>1451</td>\n",
       "      <td>677</td>\n",
       "      <td>3</td>\n",
       "    </tr>\n",
       "  </tbody>\n",
       "</table>\n",
       "</div>"
      ],
      "text/plain": [
       "                  Points  Assists  Rebounds  Steals  Blocks  Primary Position\n",
       "Player                                                                       \n",
       "LeBron             41732    11217     11753    2460    1207                 3\n",
       "Paul_Pierce        29577     5287      8512    1956     850                 3\n",
       "Dominique_Wikins   28091     2820      7544    1451     677                 3"
      ]
     },
     "execution_count": 10,
     "metadata": {},
     "output_type": "execute_result"
    }
   ],
   "source": [
    "small_forwards = totals[totals[\"Primary Position\"] == 3]\n",
    "small_forwards.head(3)"
   ]
  },
  {
   "cell_type": "markdown",
   "metadata": {},
   "source": [
    "<h2> Power forwards </h2>"
   ]
  },
  {
   "cell_type": "code",
   "execution_count": 11,
   "metadata": {},
   "outputs": [
    {
     "data": {
      "text/html": [
       "<div>\n",
       "<style scoped>\n",
       "    .dataframe tbody tr th:only-of-type {\n",
       "        vertical-align: middle;\n",
       "    }\n",
       "\n",
       "    .dataframe tbody tr th {\n",
       "        vertical-align: top;\n",
       "    }\n",
       "\n",
       "    .dataframe thead th {\n",
       "        text-align: right;\n",
       "    }\n",
       "</style>\n",
       "<table border=\"1\" class=\"dataframe\">\n",
       "  <thead>\n",
       "    <tr style=\"text-align: right;\">\n",
       "      <th></th>\n",
       "      <th>Points</th>\n",
       "      <th>Assists</th>\n",
       "      <th>Rebounds</th>\n",
       "      <th>Steals</th>\n",
       "      <th>Blocks</th>\n",
       "      <th>Primary Position</th>\n",
       "    </tr>\n",
       "    <tr>\n",
       "      <th>Player</th>\n",
       "      <th></th>\n",
       "      <th></th>\n",
       "      <th></th>\n",
       "      <th></th>\n",
       "      <th></th>\n",
       "      <th></th>\n",
       "    </tr>\n",
       "  </thead>\n",
       "  <tbody>\n",
       "    <tr>\n",
       "      <th>Karl_Malone</th>\n",
       "      <td>41689</td>\n",
       "      <td>5858</td>\n",
       "      <td>17030</td>\n",
       "      <td>2343</td>\n",
       "      <td>1280</td>\n",
       "      <td>4</td>\n",
       "    </tr>\n",
       "    <tr>\n",
       "      <th>Duncan</th>\n",
       "      <td>31668</td>\n",
       "      <td>4989</td>\n",
       "      <td>17950</td>\n",
       "      <td>1193</td>\n",
       "      <td>3588</td>\n",
       "      <td>4</td>\n",
       "    </tr>\n",
       "    <tr>\n",
       "      <th>Dirk</th>\n",
       "      <td>35223</td>\n",
       "      <td>4011</td>\n",
       "      <td>12935</td>\n",
       "      <td>1359</td>\n",
       "      <td>1410</td>\n",
       "      <td>4</td>\n",
       "    </tr>\n",
       "  </tbody>\n",
       "</table>\n",
       "</div>"
      ],
      "text/plain": [
       "             Points  Assists  Rebounds  Steals  Blocks  Primary Position\n",
       "Player                                                                  \n",
       "Karl_Malone   41689     5858     17030    2343    1280                 4\n",
       "Duncan        31668     4989     17950    1193    3588                 4\n",
       "Dirk          35223     4011     12935    1359    1410                 4"
      ]
     },
     "execution_count": 11,
     "metadata": {},
     "output_type": "execute_result"
    }
   ],
   "source": [
    "power_forwards = totals[totals[\"Primary Position\"] == 4]\n",
    "power_forwards.head(3)"
   ]
  },
  {
   "cell_type": "markdown",
   "metadata": {},
   "source": [
    "<h2> Centers </h2>"
   ]
  },
  {
   "cell_type": "code",
   "execution_count": 12,
   "metadata": {},
   "outputs": [
    {
     "data": {
      "text/html": [
       "<div>\n",
       "<style scoped>\n",
       "    .dataframe tbody tr th:only-of-type {\n",
       "        vertical-align: middle;\n",
       "    }\n",
       "\n",
       "    .dataframe tbody tr th {\n",
       "        vertical-align: top;\n",
       "    }\n",
       "\n",
       "    .dataframe thead th {\n",
       "        text-align: right;\n",
       "    }\n",
       "</style>\n",
       "<table border=\"1\" class=\"dataframe\">\n",
       "  <thead>\n",
       "    <tr style=\"text-align: right;\">\n",
       "      <th></th>\n",
       "      <th>Points</th>\n",
       "      <th>Assists</th>\n",
       "      <th>Rebounds</th>\n",
       "      <th>Steals</th>\n",
       "      <th>Blocks</th>\n",
       "      <th>Primary Position</th>\n",
       "    </tr>\n",
       "    <tr>\n",
       "      <th>Player</th>\n",
       "      <th></th>\n",
       "      <th></th>\n",
       "      <th></th>\n",
       "      <th></th>\n",
       "      <th></th>\n",
       "      <th></th>\n",
       "    </tr>\n",
       "  </thead>\n",
       "  <tbody>\n",
       "    <tr>\n",
       "      <th>Kareem</th>\n",
       "      <td>44149</td>\n",
       "      <td>6427</td>\n",
       "      <td>19921</td>\n",
       "      <td>1349</td>\n",
       "      <td>3665</td>\n",
       "      <td>5</td>\n",
       "    </tr>\n",
       "    <tr>\n",
       "      <th>Wilt</th>\n",
       "      <td>35026</td>\n",
       "      <td>5316</td>\n",
       "      <td>27837</td>\n",
       "      <td>0</td>\n",
       "      <td>0</td>\n",
       "      <td>5</td>\n",
       "    </tr>\n",
       "    <tr>\n",
       "      <th>Shaq</th>\n",
       "      <td>33846</td>\n",
       "      <td>3608</td>\n",
       "      <td>15607</td>\n",
       "      <td>856</td>\n",
       "      <td>3191</td>\n",
       "      <td>5</td>\n",
       "    </tr>\n",
       "  </tbody>\n",
       "</table>\n",
       "</div>"
      ],
      "text/plain": [
       "        Points  Assists  Rebounds  Steals  Blocks  Primary Position\n",
       "Player                                                             \n",
       "Kareem   44149     6427     19921    1349    3665                 5\n",
       "Wilt     35026     5316     27837       0       0                 5\n",
       "Shaq     33846     3608     15607     856    3191                 5"
      ]
     },
     "execution_count": 12,
     "metadata": {},
     "output_type": "execute_result"
    }
   ],
   "source": [
    "centers = totals[totals[\"Primary Position\"] == 5]\n",
    "centers.head(3)"
   ]
  },
  {
   "cell_type": "markdown",
   "metadata": {},
   "source": [
    "<h3> Operations : points </h3>"
   ]
  },
  {
   "cell_type": "code",
   "execution_count": 13,
   "metadata": {},
   "outputs": [],
   "source": [
    "def getTotalPoints(size=(5,15)):\n",
    "    t = totals[\"Points\"].sort_values(ascending=False)\n",
    "    plt.figure(figsize=size)\n",
    "    t.plot.bar()\n",
    "    plt.show()\n",
    "    return t\n",
    "\n",
    "def displayPoints():\n",
    "    ordered = totals.sort_values(by=\"Points\",ascending=False) \n",
    "    size = ordered.shape[0]\n",
    "    for i in range(size):\n",
    "        print(f' {i+1} - {ordered.index[i]} :  {ordered[\"Points\"][i]}')"
   ]
  },
  {
   "cell_type": "markdown",
   "metadata": {},
   "source": [
    "<center class=\"alert alert-info\">\n",
    "    <h1> Stats: points </h1>\n",
    "</center>"
   ]
  },
  {
   "cell_type": "code",
   "execution_count": 14,
   "metadata": {},
   "outputs": [],
   "source": [
    "points_button = widgets.Button(\n",
    "    description=\"Show points\",\n",
    "    button_style=\"info\"\n",
    ")\n",
    "\n",
    "points_width = widgets.IntSlider(\n",
    "    description=\"Width\",\n",
    "    value=20,\n",
    "    min=5,\n",
    "    max=20,\n",
    ")\n",
    "\n",
    "points_height = widgets.IntSlider(\n",
    "    description=\"Height\",\n",
    "    value=5,\n",
    "    min=5,\n",
    "    max=15\n",
    ")\n",
    "\n",
    "points_output = widgets.Output()"
   ]
  },
  {
   "cell_type": "code",
   "execution_count": 15,
   "metadata": {},
   "outputs": [],
   "source": [
    "total_points = ()\n",
    "\n",
    "@points_button.on_click\n",
    "def on_click(self):\n",
    "    points_output.clear_output()\n",
    "    size=(points_width.value, points_height.value)\n",
    "    with points_output:\n",
    "        globals()[\"total_points\"] = getTotalPoints(size=size)\n",
    "        displayPoints()"
   ]
  },
  {
   "cell_type": "code",
   "execution_count": 16,
   "metadata": {},
   "outputs": [
    {
     "data": {
      "application/vnd.jupyter.widget-view+json": {
       "model_id": "87268d9ba58a46ae9571a7a13778d18b",
       "version_major": 2,
       "version_minor": 0
      },
      "text/plain": [
       "IntSlider(value=20, description='Width', max=20, min=5)"
      ]
     },
     "metadata": {},
     "output_type": "display_data"
    },
    {
     "data": {
      "application/vnd.jupyter.widget-view+json": {
       "model_id": "34d65c0bb215478f9789a2cd7ee9bc69",
       "version_major": 2,
       "version_minor": 0
      },
      "text/plain": [
       "IntSlider(value=5, description='Height', max=15, min=5)"
      ]
     },
     "metadata": {},
     "output_type": "display_data"
    },
    {
     "data": {
      "application/vnd.jupyter.widget-view+json": {
       "model_id": "ce4ad06ca60a4dcb94e3e7ddbe544957",
       "version_major": 2,
       "version_minor": 0
      },
      "text/plain": [
       "Button(button_style='info', description='Show points', style=ButtonStyle())"
      ]
     },
     "metadata": {},
     "output_type": "display_data"
    },
    {
     "data": {
      "application/vnd.jupyter.widget-view+json": {
       "model_id": "16d71f489a904a12a0648bf3f141d1a5",
       "version_major": 2,
       "version_minor": 0
      },
      "text/plain": [
       "Output()"
      ]
     },
     "metadata": {},
     "output_type": "display_data"
    }
   ],
   "source": [
    "display(points_width, points_height, points_button, points_output)"
   ]
  },
  {
   "cell_type": "markdown",
   "metadata": {},
   "source": [
    "<h3> Operations: assists </h3>"
   ]
  },
  {
   "cell_type": "code",
   "execution_count": 22,
   "metadata": {},
   "outputs": [],
   "source": [
    "def getTotalAssists(size=(5,15)):\n",
    "    t = totals[\"Assists\"].sort_values(ascending=False)\n",
    "    plt.figure(figsize=size)\n",
    "    t.plot.bar()\n",
    "    plt.show()\n",
    "    return t\n",
    "\n",
    "def displayAssists():\n",
    "    ordered = totals.sort_values(by=\"Assists\",ascending=False) \n",
    "    size = ordered.shape[0]\n",
    "    for i in range(size):\n",
    "        print(f' {i+1} - {ordered.index[i]} :  {ordered[\"Assists\"][i]}')"
   ]
  },
  {
   "cell_type": "markdown",
   "metadata": {},
   "source": [
    "<center class=\"alert alert-info\">\n",
    "    <h1> Stats: assists </h1>\n",
    "</center>"
   ]
  },
  {
   "cell_type": "code",
   "execution_count": 19,
   "metadata": {},
   "outputs": [],
   "source": [
    "assists_button = widgets.Button(\n",
    "    description=\"Show total assists\",\n",
    "    button_style=\"info\"\n",
    ")\n",
    "\n",
    "assists_width = widgets.IntSlider(\n",
    "    description=\"Width\",\n",
    "    value=20,\n",
    "    min=5,\n",
    "    max=20\n",
    ") \n",
    "\n",
    "assists_height = widgets.IntSlider(\n",
    "    description=\"Height\",\n",
    "    value=5,\n",
    "    min=5,\n",
    "    max=15\n",
    ")\n",
    "\n",
    "assists_output = widgets.Output()"
   ]
  },
  {
   "cell_type": "code",
   "execution_count": 20,
   "metadata": {},
   "outputs": [],
   "source": [
    "total_assists = ()\n",
    "\n",
    "@assists_button.on_click\n",
    "def on_click(self):\n",
    "    assists_output.clear_output()\n",
    "    size=(assists_width.value, assists_height.value)\n",
    "    with assists_output:\n",
    "        globals()[\"total_assists\"] = getTotalAssists(size=size)\n",
    "        displayAssists()"
   ]
  },
  {
   "cell_type": "code",
   "execution_count": 23,
   "metadata": {},
   "outputs": [
    {
     "data": {
      "application/vnd.jupyter.widget-view+json": {
       "model_id": "29a92749213141ee978acbd0298ba075",
       "version_major": 2,
       "version_minor": 0
      },
      "text/plain": [
       "IntSlider(value=20, description='Width', max=20, min=5)"
      ]
     },
     "metadata": {},
     "output_type": "display_data"
    },
    {
     "data": {
      "application/vnd.jupyter.widget-view+json": {
       "model_id": "85c8c193e8914896ad9482c9862a3f00",
       "version_major": 2,
       "version_minor": 0
      },
      "text/plain": [
       "IntSlider(value=5, description='Height', max=15, min=5)"
      ]
     },
     "metadata": {},
     "output_type": "display_data"
    },
    {
     "data": {
      "application/vnd.jupyter.widget-view+json": {
       "model_id": "dc687dc18c5646bcbc7d79a421c4d5bc",
       "version_major": 2,
       "version_minor": 0
      },
      "text/plain": [
       "Button(button_style='info', description='Show total assists', style=ButtonStyle())"
      ]
     },
     "metadata": {},
     "output_type": "display_data"
    },
    {
     "data": {
      "application/vnd.jupyter.widget-view+json": {
       "model_id": "9d63c1da9f654f3581dc5f060a0b934c",
       "version_major": 2,
       "version_minor": 0
      },
      "text/plain": [
       "Output(outputs=({'traceback': ['\\x1b[1;31m--------------------------------------------------------------------…"
      ]
     },
     "metadata": {},
     "output_type": "display_data"
    }
   ],
   "source": [
    "display(assists_width, assists_height, assists_button, assists_output)"
   ]
  },
  {
   "cell_type": "markdown",
   "metadata": {},
   "source": [
    "<h2> Operations: rebounds </h2>"
   ]
  },
  {
   "cell_type": "code",
   "execution_count": 35,
   "metadata": {},
   "outputs": [],
   "source": [
    "def getTotalRebounds(size=(5,15)):\n",
    "    t = totals[\"Rebounds\"].sort_values(ascending=False)\n",
    "    plt.figure(figsize=size)\n",
    "    t.plot.bar()\n",
    "    plt.show()\n",
    "    return t\n",
    "\n",
    "def displayRebounds():\n",
    "    ordered = totals.sort_values(by=\"Rebounds\",ascending=False) \n",
    "    size = ordered.shape[0]\n",
    "    for i in range(size):\n",
    "        print(f' {i+1} - {ordered.index[i]} :  {ordered[\"Rebounds\"][i]}')"
   ]
  },
  {
   "cell_type": "markdown",
   "metadata": {},
   "source": [
    "<center class=\"alert alert-info\">\n",
    "    <h1> Stats: rebounds </h1>\n",
    "</center>"
   ]
  },
  {
   "cell_type": "code",
   "execution_count": 36,
   "metadata": {},
   "outputs": [],
   "source": [
    "rebounds_button = widgets.Button(\n",
    "    description=\"Show total rebounds\", \n",
    "    button_style=\"info\"\n",
    ")\n",
    "\n",
    "rebounds_width = widgets.IntSlider(\n",
    "    description=\"Width\",\n",
    "    value=20,\n",
    "    min=5,\n",
    "    max=20\n",
    ")\n",
    "\n",
    "rebounds_height = widgets.IntSlider(\n",
    "    description=\"height\",\n",
    "    value=5,\n",
    "    min=5,\n",
    "    max=15\n",
    ")\n",
    "\n",
    "rebounds_output = widgets.Output()"
   ]
  },
  {
   "cell_type": "code",
   "execution_count": 37,
   "metadata": {},
   "outputs": [],
   "source": [
    "total_rebounds=()\n",
    "\n",
    "@rebounds_button.on_click\n",
    "def on_click(self):\n",
    "    rebounds_output.clear_output()\n",
    "    size=(rebounds_width.value, rebounds_height.value)\n",
    "    with rebounds_output:\n",
    "        globals()[\"total_rebounds\"] = getTotalRebounds(size=size)\n",
    "        displayRebounds()"
   ]
  },
  {
   "cell_type": "code",
   "execution_count": 38,
   "metadata": {},
   "outputs": [
    {
     "data": {
      "application/vnd.jupyter.widget-view+json": {
       "model_id": "c6d29bb806464449aa8e494905b3455e",
       "version_major": 2,
       "version_minor": 0
      },
      "text/plain": [
       "IntSlider(value=20, description='Width', max=20, min=5)"
      ]
     },
     "metadata": {},
     "output_type": "display_data"
    },
    {
     "data": {
      "application/vnd.jupyter.widget-view+json": {
       "model_id": "db671e8e5512454d9c55530e7736643d",
       "version_major": 2,
       "version_minor": 0
      },
      "text/plain": [
       "IntSlider(value=5, description='height', max=15, min=5)"
      ]
     },
     "metadata": {},
     "output_type": "display_data"
    },
    {
     "data": {
      "application/vnd.jupyter.widget-view+json": {
       "model_id": "822d1106fdfd4e6b8c91de811645f78b",
       "version_major": 2,
       "version_minor": 0
      },
      "text/plain": [
       "Button(button_style='info', description='Show total rebounds', style=ButtonStyle())"
      ]
     },
     "metadata": {},
     "output_type": "display_data"
    },
    {
     "data": {
      "application/vnd.jupyter.widget-view+json": {
       "model_id": "8298fdc2f2324ee1ab01374a1559708d",
       "version_major": 2,
       "version_minor": 0
      },
      "text/plain": [
       "Output()"
      ]
     },
     "metadata": {},
     "output_type": "display_data"
    }
   ],
   "source": [
    "display(rebounds_width,rebounds_height,rebounds_button,rebounds_output)"
   ]
  },
  {
   "cell_type": "markdown",
   "metadata": {},
   "source": [
    "<h1> Operations : steals </h1>"
   ]
  },
  {
   "cell_type": "code",
   "execution_count": 39,
   "metadata": {},
   "outputs": [],
   "source": [
    "def getTotalSteals(size=(5,15)):\n",
    "    t = totals[\"Steals\"].sort_values(ascending=False)\n",
    "    plt.figure(figsize=size)\n",
    "    t.plot.bar()\n",
    "    plt.show()\n",
    "    return t\n",
    "\n",
    "def displaySteals():\n",
    "    ordered = totals.sort_values(by=\"Steals\",ascending=False) \n",
    "    size = ordered.shape[0]\n",
    "    for i in range(size):\n",
    "        print(f' {i+1} - {ordered.index[i]} :  {ordered[\"Steals\"][i]}')"
   ]
  },
  {
   "cell_type": "markdown",
   "metadata": {},
   "source": [
    "<center class=\"alert alert-info\">\n",
    "    <h1> Stats: steals </h1>\n",
    "</center>"
   ]
  },
  {
   "cell_type": "code",
   "execution_count": 52,
   "metadata": {},
   "outputs": [],
   "source": [
    "steals_button = widgets.Button(\n",
    "    description=\"Show total points\",\n",
    "    button_style=\"info\"\n",
    ")\n",
    "\n",
    "steals_width = widgets.IntSlider(\n",
    "    description='Width',\n",
    "    value=20,\n",
    "    min=5,\n",
    "    max=20\n",
    ")\n",
    "\n",
    "steals_height = widgets.IntSlider(\n",
    "    description=\"Height\",\n",
    "    value=5,\n",
    "    min=5,\n",
    "    max=15\n",
    ")\n",
    "\n",
    "steals_output = widgets.Output()"
   ]
  },
  {
   "cell_type": "code",
   "execution_count": 55,
   "metadata": {},
   "outputs": [],
   "source": [
    "total_steals = ()\n",
    "\n",
    "@steals_button.on_click\n",
    "def on_click(self):\n",
    "    steals_output.clear_output()\n",
    "    size = (steals_width.value,steals_height.value)\n",
    "    with steals_output:\n",
    "        globals()[\"total_steals\"] = getTotalSteals(size)\n",
    "        displaySteals()"
   ]
  },
  {
   "cell_type": "code",
   "execution_count": 56,
   "metadata": {},
   "outputs": [
    {
     "data": {
      "application/vnd.jupyter.widget-view+json": {
       "model_id": "4cc2672738e949cfbbf872d2760e4b73",
       "version_major": 2,
       "version_minor": 0
      },
      "text/plain": [
       "IntSlider(value=20, description='Width', max=20, min=5)"
      ]
     },
     "metadata": {},
     "output_type": "display_data"
    },
    {
     "data": {
      "application/vnd.jupyter.widget-view+json": {
       "model_id": "8a4ba6c9760b4af0b8dfca19e1a8be1e",
       "version_major": 2,
       "version_minor": 0
      },
      "text/plain": [
       "IntSlider(value=5, description='Height', max=15, min=5)"
      ]
     },
     "metadata": {},
     "output_type": "display_data"
    },
    {
     "data": {
      "application/vnd.jupyter.widget-view+json": {
       "model_id": "7ba89522aaca41e997f06188c363b6a5",
       "version_major": 2,
       "version_minor": 0
      },
      "text/plain": [
       "Button(button_style='info', description='Show total points', style=ButtonStyle())"
      ]
     },
     "metadata": {},
     "output_type": "display_data"
    },
    {
     "data": {
      "application/vnd.jupyter.widget-view+json": {
       "model_id": "b741586b64df4dbcac8b742e6dccffcd",
       "version_major": 2,
       "version_minor": 0
      },
      "text/plain": [
       "Output(outputs=({'output_type': 'display_data', 'data': {'text/plain': '<Figure size 360x1080 with 1 Axes>', '…"
      ]
     },
     "metadata": {},
     "output_type": "display_data"
    }
   ],
   "source": [
    "display(steals_width,steals_height,steals_button,steals_output)"
   ]
  },
  {
   "cell_type": "markdown",
   "metadata": {},
   "source": [
    "<h1> Operations : blocks </h1>"
   ]
  },
  {
   "cell_type": "code",
   "execution_count": 71,
   "metadata": {},
   "outputs": [],
   "source": [
    "def getTotalBlocks(size=(5,15)):\n",
    "    t = totals[\"Blocks\"].sort_values(ascending=False)\n",
    "    plt.figure(figsize=size)\n",
    "    t.plot.bar()\n",
    "    plt.show()\n",
    "    return t\n",
    "\n",
    "def displayBlocks():\n",
    "    ordered = totals.sort_values(by=\"Blocks\",ascending=False) \n",
    "    size = ordered.shape[0]\n",
    "    for i in range(size):\n",
    "        print(f' {i+1} - {ordered.index[i]} :  {ordered[\"Blocks\"][i]}')"
   ]
  },
  {
   "cell_type": "markdown",
   "metadata": {},
   "source": [
    "<center class=\"alert alert-info\">    \n",
    "    <h1> Stats : blocks </h1>\n",
    "</center>"
   ]
  },
  {
   "cell_type": "code",
   "execution_count": 72,
   "metadata": {},
   "outputs": [],
   "source": [
    "blocks_button = widgets.Button(\n",
    "    description=\"Blocks\",\n",
    "    button_style=\"info\"\n",
    ")\n",
    "\n",
    "blocks_width = widgets.IntSlider(\n",
    "    description=\"Width\",\n",
    "    value=20,\n",
    "    min=5,\n",
    "    max=20\n",
    ")\n",
    "\n",
    "blocks_height = widgets.IntSlider(\n",
    "    description='Height',\n",
    "    value=5,\n",
    "    min=5,\n",
    "    max=15\n",
    ")\n",
    "\n",
    "blocks_output = widgets.Output()"
   ]
  },
  {
   "cell_type": "code",
   "execution_count": 73,
   "metadata": {},
   "outputs": [],
   "source": [
    "total_blocks = ()\n",
    "\n",
    "@blocks_button.on_click\n",
    "def on_click(self):\n",
    "    blocks_output.clear_output()\n",
    "    size = (blocks_width.value,blocks_height.value)\n",
    "    with blocks_output:\n",
    "        globals()[\"total_blocks\"] = getTotalBlocks(size)\n",
    "        displayBlocks()"
   ]
  },
  {
   "cell_type": "code",
   "execution_count": 74,
   "metadata": {},
   "outputs": [
    {
     "data": {
      "application/vnd.jupyter.widget-view+json": {
       "model_id": "bcd9fba674764950879a4a5dd8b81d48",
       "version_major": 2,
       "version_minor": 0
      },
      "text/plain": [
       "IntSlider(value=20, description='Width', max=20, min=5)"
      ]
     },
     "metadata": {},
     "output_type": "display_data"
    },
    {
     "data": {
      "application/vnd.jupyter.widget-view+json": {
       "model_id": "c4266062fac74d80bbbf6623914db0d5",
       "version_major": 2,
       "version_minor": 0
      },
      "text/plain": [
       "IntSlider(value=5, description='Height', max=15, min=5)"
      ]
     },
     "metadata": {},
     "output_type": "display_data"
    },
    {
     "data": {
      "application/vnd.jupyter.widget-view+json": {
       "model_id": "1a57b9d8c02749b193b3d6837351e1a9",
       "version_major": 2,
       "version_minor": 0
      },
      "text/plain": [
       "Button(button_style='info', description='Blocks', style=ButtonStyle())"
      ]
     },
     "metadata": {},
     "output_type": "display_data"
    },
    {
     "data": {
      "application/vnd.jupyter.widget-view+json": {
       "model_id": "1b1c66f79aa24fad8acb98278f36f3b3",
       "version_major": 2,
       "version_minor": 0
      },
      "text/plain": [
       "Output()"
      ]
     },
     "metadata": {},
     "output_type": "display_data"
    }
   ],
   "source": [
    "display(blocks_width,blocks_height,blocks_button,blocks_output)"
   ]
  },
  {
   "cell_type": "markdown",
   "metadata": {},
   "source": [
    "<h1> Operations: totals </h1>"
   ]
  },
  {
   "cell_type": "code",
   "execution_count": 21,
   "metadata": {},
   "outputs": [],
   "source": [
    "def getTotalTotals():\n",
    "    t = totals.sum(axis=1)\n",
    "    t = t.sort_values(ascending=False)\n",
    "    plt.figure(figsize=[15,15])\n",
    "    t.plot.bar()\n",
    "    plt.show()\n",
    "    return t\n",
    "\n",
    "def displayTotals():\n",
    "    i = 0\n",
    "    for element in total_totals.index:\n",
    "        print(f\"{i+1}-{element} : {total_totals[i]}\")\n",
    "        i+=1"
   ]
  },
  {
   "cell_type": "markdown",
   "metadata": {},
   "source": [
    "<center class=\"alert alert-info\">\n",
    "    <h1> Stats: totals </h1>\n",
    "</center>"
   ]
  },
  {
   "cell_type": "code",
   "execution_count": 22,
   "metadata": {},
   "outputs": [
    {
     "data": {
      "image/png": "[encoded data removed]",
      "text/plain": [
       "<Figure size 1080x1080 with 1 Axes>"
      ]
     },
     "metadata": {
      "needs_background": "light"
     },
     "output_type": "display_data"
    },
    {
     "name": "stdout",
     "output_type": "stream",
     "text": [
      "1-Kareem : 75516\n",
      "2-LeBron : 68372\n",
      "3-Karl_Malone : 68204\n",
      "4-Wilt : 68184\n",
      "5-Duncan : 59392\n",
      "6-Kobe : 57835\n",
      "7-Julius_Erving : 57555\n",
      "8-Shaq : 57113\n",
      "9-MJ : 56131\n",
      "10-Hakeem : 56063\n",
      "11-Garnett : 55048\n",
      "12-Dirk : 54942\n",
      "13-Elvin_Hayes : 52572\n",
      "14-Moses_Malone : 51986\n",
      "15-Artis_Gilmore : 51647\n",
      "16-Robert_Parish : 49087\n",
      "17-Stockton : 48420\n",
      "18-Charles_Barkley : 48256\n",
      "19-Bill Russell : 47794\n",
      "20-Robertson : 47759\n",
      "21-Patrick_Ewing : 47620\n",
      "22-John_Havlicek : 46975\n",
      "23-Jason_Kidd : 46198\n",
      "24-Paul_Pierce : 46185\n",
      "25-Larry_Bird : 45857\n",
      "26-Magic : 44440\n",
      "27-Elgin_Baylor : 44153\n",
      "28-Jerry_West : 43193\n",
      "29-Rick_Barry : 42616\n",
      "30-Dwyane_Wade : 42506\n",
      "31-David_Robinson : 42340\n",
      "32-Carmelo_Anthony : 41064\n",
      "33-Dominique_Wikins : 40586\n",
      "34-Dwight_Howard : 40459\n",
      "35-Kevin_Durant : 40283\n",
      "36-Ray_Allen : 39886\n",
      "37-Russell_Westbrook : 39731\n",
      "38-Walt_Bellamy : 39497\n",
      "39-CP3 : 38999\n",
      "40-Allen_Iverson : 38504\n",
      "41-Tony_Parker : 37128\n",
      "42-Steve_Nash : 36001\n",
      "43-Nate_Thurmond : 34515\n",
      "44-Kevin_McHale : 33220\n",
      "45-Wes_Unseld : 32827\n",
      "46-Steph_Curry : 30047\n",
      "47-Anthony_Davis : 22896\n",
      "48-Kawhi_Leonard : 19970\n"
     ]
    }
   ],
   "source": [
    "total_totals = getTotalTotals()\n",
    "displayTotals()"
   ]
  },
  {
   "cell_type": "markdown",
   "metadata": {},
   "source": [
    "<h1> Totals grouped by position </h1>"
   ]
  },
  {
   "cell_type": "markdown",
   "metadata": {},
   "source": [
    "<h2> Guards </h2>"
   ]
  },
  {
   "cell_type": "markdown",
   "metadata": {},
   "source": [
    "<h3> Operations </h3>"
   ]
  },
  {
   "cell_type": "code",
   "execution_count": 23,
   "metadata": {},
   "outputs": [],
   "source": [
    "def TotalsByPosition_Guards():\n",
    "    \n",
    "    pg_totals = point_guards.sum(axis=1)\n",
    "    sg_totals = shooting_guards.sum(axis=1)\n",
    "    \n",
    "    t = pg_totals.sort_values(ascending=False)\n",
    "    \n",
    "    plt.figure(figsize=[5,5])\n",
    "    plt.title(\"Point guards\")\n",
    "    t.plot.bar()\n",
    "    plt.show()\n",
    "    \n",
    "    ordered = pg_totals.sort_values(ascending=False) \n",
    "    size = ordered.shape[0]\n",
    "    for i in range(size):\n",
    "        print(f' {i+1} - {ordered.index[i]} :  {ordered.values[i]}')\n",
    "        \n",
    "    t = sg_totals.sort_values(ascending=False)\n",
    "    \n",
    "    plt.figure(figsize=[5,5])\n",
    "    plt.title(\"Shooting guards\")\n",
    "    t.plot.bar()\n",
    "    plt.show()\n",
    "    \n",
    "    ordered = sg_totals.sort_values(ascending=False) \n",
    "    size = ordered.shape[0]\n",
    "    for i in range(size):\n",
    "        print(f' {i+1} - {ordered.index[i]} :  {ordered.values[i]}')"
   ]
  },
  {
   "cell_type": "markdown",
   "metadata": {},
   "source": [
    "<h3 class=\"alert alert-info\"> Totals: guards </h3>"
   ]
  },
  {
   "cell_type": "code",
   "execution_count": 24,
   "metadata": {},
   "outputs": [
    {
     "data": {
      "image/png": "[encoded data removed]",
      "text/plain": [
       "<Figure size 360x360 with 1 Axes>"
      ]
     },
     "metadata": {
      "needs_background": "light"
     },
     "output_type": "display_data"
    },
    {
     "name": "stdout",
     "output_type": "stream",
     "text": [
      " 1 - Stockton :  48420\n",
      " 2 - Robertson :  47759\n",
      " 3 - Jason_Kidd :  46198\n",
      " 4 - Magic :  44440\n",
      " 5 - Jerry_West :  43193\n",
      " 6 - Russell_Westbrook :  39731\n",
      " 7 - CP3 :  38999\n",
      " 8 - Allen_Iverson :  38504\n",
      " 9 - Tony_Parker :  37128\n",
      " 10 - Steve_Nash :  36001\n",
      " 11 - Steph_Curry :  30047\n"
     ]
    },
    {
     "data": {
      "image/png": "[encoded data removed]",
      "text/plain": [
       "<Figure size 360x360 with 1 Axes>"
      ]
     },
     "metadata": {
      "needs_background": "light"
     },
     "output_type": "display_data"
    },
    {
     "name": "stdout",
     "output_type": "stream",
     "text": [
      " 1 - Kobe :  57835\n",
      " 2 - MJ :  56131\n",
      " 3 - Dwyane_Wade :  42506\n",
      " 4 - Ray_Allen :  39886\n"
     ]
    }
   ],
   "source": [
    "TotalsByPosition_Guards()"
   ]
  },
  {
   "cell_type": "markdown",
   "metadata": {},
   "source": [
    "<h2> Forwards </h2>"
   ]
  },
  {
   "cell_type": "markdown",
   "metadata": {},
   "source": [
    "<h3> Operations </h3>"
   ]
  },
  {
   "cell_type": "code",
   "execution_count": 25,
   "metadata": {},
   "outputs": [],
   "source": [
    "def TotalsByPosition_Forwards():\n",
    "    \n",
    "    sf_totals = small_forwards.sum(axis=1)\n",
    "    pf_totals = power_forwards.sum(axis=1)\n",
    "    \n",
    "    t = sf_totals.sort_values(ascending=False)\n",
    "    \n",
    "    plt.figure(figsize=[5,5])\n",
    "    plt.title(\"Small Forwards\")\n",
    "    t.plot.bar()\n",
    "    plt.show()\n",
    "    \n",
    "    ordered = sf_totals.sort_values(ascending=False) \n",
    "    size = ordered.shape[0]\n",
    "    for i in range(size):\n",
    "        print(f' {i+1} - {ordered.index[i]} :  {ordered.values[i]}')\n",
    "\n",
    "        \n",
    "    t = pf_totals.sort_values(ascending=False)\n",
    "    plt.figure(figsize=[5,5])\n",
    "    plt.title(\"Power forwards\")\n",
    "    t.plot.bar()\n",
    "    plt.show()\n",
    "    \n",
    "    ordered = pf_totals.sort_values(ascending=False) \n",
    "    size = ordered.shape[0]\n",
    "    for i in range(size):\n",
    "        print(f' {i+1} - {ordered.index[i]} :  {ordered.values[i]}')"
   ]
  },
  {
   "cell_type": "markdown",
   "metadata": {},
   "source": [
    "<h3 class=\"alert alert-info\"> Totals: forwards </h3>"
   ]
  },
  {
   "cell_type": "code",
   "execution_count": 26,
   "metadata": {},
   "outputs": [
    {
     "data": {
      "image/png": "[encoded data removed]",
      "text/plain": [
       "<Figure size 360x360 with 1 Axes>"
      ]
     },
     "metadata": {
      "needs_background": "light"
     },
     "output_type": "display_data"
    },
    {
     "name": "stdout",
     "output_type": "stream",
     "text": [
      " 1 - LeBron :  68372\n",
      " 2 - Julius_Erving :  57555\n",
      " 3 - John_Havlicek :  46975\n",
      " 4 - Paul_Pierce :  46185\n",
      " 5 - Larry_Bird :  45857\n",
      " 6 - Elgin_Baylor :  44153\n",
      " 7 - Rick_Barry :  42616\n",
      " 8 - Carmelo_Anthony :  41064\n",
      " 9 - Dominique_Wikins :  40586\n",
      " 10 - Kevin_Durant :  40283\n",
      " 11 - Kawhi_Leonard :  19970\n"
     ]
    },
    {
     "data": {
      "image/png": "[encoded data removed]",
      "text/plain": [
       "<Figure size 360x360 with 1 Axes>"
      ]
     },
     "metadata": {
      "needs_background": "light"
     },
     "output_type": "display_data"
    },
    {
     "name": "stdout",
     "output_type": "stream",
     "text": [
      " 1 - Karl_Malone :  68204\n",
      " 2 - Duncan :  59392\n",
      " 3 - Garnett :  55048\n",
      " 4 - Dirk :  54942\n",
      " 5 - Moses_Malone :  51986\n",
      " 6 - Charles_Barkley :  48256\n",
      " 7 - Kevin_McHale :  33220\n",
      " 8 - Anthony_Davis :  22896\n"
     ]
    }
   ],
   "source": [
    "TotalsByPosition_Forwards()"
   ]
  },
  {
   "cell_type": "markdown",
   "metadata": {},
   "source": [
    "<h2> Centers </h2>"
   ]
  },
  {
   "cell_type": "markdown",
   "metadata": {},
   "source": [
    "<h3> Operations </h3>"
   ]
  },
  {
   "cell_type": "code",
   "execution_count": 27,
   "metadata": {},
   "outputs": [],
   "source": [
    "def TotalsByPosition_Centers():\n",
    "    \n",
    "    c_totals = centers.sum(axis=1)\n",
    "    \n",
    "    t = c_totals.sort_values(ascending=False)\n",
    "    \n",
    "    plt.figure(figsize=[5,5])\n",
    "    plt.title(\"Centers\")\n",
    "    t.plot.bar()\n",
    "    plt.show()\n",
    "    \n",
    "    ordered = c_totals.sort_values(ascending=False) \n",
    "    size = ordered.shape[0]\n",
    "    for i in range(size):\n",
    "        print(f' {i+1} - {ordered.index[i]} :  {ordered.values[i]}')"
   ]
  },
  {
   "cell_type": "markdown",
   "metadata": {},
   "source": [
    "<h3 class=\"alert alert-info\"> Stats </h3>"
   ]
  },
  {
   "cell_type": "code",
   "execution_count": 28,
   "metadata": {},
   "outputs": [
    {
     "data": {
      "image/png": "[encoded data removed]",
      "text/plain": [
       "<Figure size 360x360 with 1 Axes>"
      ]
     },
     "metadata": {
      "needs_background": "light"
     },
     "output_type": "display_data"
    },
    {
     "name": "stdout",
     "output_type": "stream",
     "text": [
      " 1 - Kareem :  75516\n",
      " 2 - Wilt :  68184\n",
      " 3 - Shaq :  57113\n",
      " 4 - Hakeem :  56063\n",
      " 5 - Elvin_Hayes :  52572\n",
      " 6 - Artis_Gilmore :  51647\n",
      " 7 - Robert_Parish :  49087\n",
      " 8 - Bill Russell :  47794\n",
      " 9 - Patrick_Ewing :  47620\n",
      " 10 - David_Robinson :  42340\n",
      " 11 - Dwight_Howard :  40459\n",
      " 12 - Walt_Bellamy :  39497\n",
      " 13 - Nate_Thurmond :  34515\n",
      " 14 - Wes_Unseld :  32827\n"
     ]
    }
   ],
   "source": [
    "TotalsByPosition_Centers()"
   ]
  },
  {
   "cell_type": "markdown",
   "metadata": {},
   "source": [
    "<h1> Comparing two players </h1>"
   ]
  },
  {
   "cell_type": "code",
   "execution_count": 29,
   "metadata": {},
   "outputs": [
    {
     "name": "stdin",
     "output_type": "stream",
     "text": [
      "First player's name:  Kobe\n"
     ]
    }
   ],
   "source": [
    "player_one = str(input(\"First player's name: \"))"
   ]
  },
  {
   "cell_type": "code",
   "execution_count": 30,
   "metadata": {},
   "outputs": [
    {
     "name": "stdin",
     "output_type": "stream",
     "text": [
      "Second player's name:  Wilt\n"
     ]
    }
   ],
   "source": [
    "player_two = str(input(\"Second player's name: \"))"
   ]
  },
  {
   "cell_type": "code",
   "execution_count": 31,
   "metadata": {},
   "outputs": [],
   "source": [
    "total_one = int(totals[totals.index==player_one].sum(axis=1))"
   ]
  },
  {
   "cell_type": "code",
   "execution_count": 32,
   "metadata": {},
   "outputs": [],
   "source": [
    "total_two = int(totals[totals.index==player_two].sum(axis=1))"
   ]
  },
  {
   "cell_type": "code",
   "execution_count": 33,
   "metadata": {},
   "outputs": [
    {
     "name": "stdout",
     "output_type": "stream",
     "text": [
      "Wilt has a higher total\n"
     ]
    }
   ],
   "source": [
    "if total_one is not None and total_two is not None:\n",
    "    if total_one > total_two:\n",
    "        print(f\"{player_one} has a higher total\")\n",
    "    else:\n",
    "        print(f\"{player_two} has a higher total\")\n",
    "else:\n",
    "    print(\"Error!\")"
   ]
  }
 ],
 "metadata": {
  "celltoolbar": "Format de la Cellule Texte Brut",
  "kernelspec": {
   "display_name": "Python 3",
   "language": "python",
   "name": "python3"
  },
  "language_info": {
   "codemirror_mode": {
    "name": "ipython",
    "version": 3
   },
   "file_extension": ".py",
   "mimetype": "text/x-python",
   "name": "python",
   "nbconvert_exporter": "python",
   "pygments_lexer": "ipython3",
   "version": "3.8.5"
  }
 },
 "nbformat": 4,
 "nbformat_minor": 4
}
