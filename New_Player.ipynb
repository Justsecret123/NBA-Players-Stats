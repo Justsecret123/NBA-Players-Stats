{
 "cells": [
  {
   "cell_type": "markdown",
   "metadata": {},
   "source": [
    "<h1> <center> How to use ?  </center> <h1>"
   ]
  },
  {
   "cell_type": "markdown",
   "metadata": {},
   "source": [
    "Run all the cells, then fill the regular season & the playoffs input fields. "
   ]
  },
  {
   "cell_type": "markdown",
   "metadata": {},
   "source": [
    "<h1> Enter a new player </h1>"
   ]
  },
  {
   "cell_type": "markdown",
   "metadata": {},
   "source": [
    "<h3> Insert a player name </h3>"
   ]
  },
  {
   "cell_type": "code",
   "execution_count": 1,
   "metadata": {},
   "outputs": [
    {
     "name": "stdout",
     "output_type": "stream",
     "text": [
      "Player's name: Bill_Russell\n"
     ]
    }
   ],
   "source": [
    "name = str(input(\"Player's name: \"))"
   ]
  },
  {
   "cell_type": "markdown",
   "metadata": {},
   "source": [
    "<h3> Regular season </h3>"
   ]
  },
  {
   "cell_type": "code",
   "execution_count": 2,
   "metadata": {},
   "outputs": [
    {
     "name": "stdout",
     "output_type": "stream",
     "text": [
      "\n",
      "Regular season: \n",
      "\tPoints: 14522\t\n",
      "\tAssists: 4100\n",
      "\tRebounds: 21620\t\n",
      "\tSteals: 0\n",
      "\tBlocks: 0\n"
     ]
    }
   ],
   "source": [
    "print(\"\\nRegular season: \")\n",
    "rs_points = int(input(\"\\tPoints: \"))\n",
    "rs_assists = int(input(\"\\tAssists: \"))\n",
    "rs_rebounds = int(input(\"\\tRebounds: \"))\n",
    "rs_steals = int(input(\"\\tSteals: \"))\n",
    "rs_blocks = int(input(\"\\tBlocks: \"))"
   ]
  },
  {
   "cell_type": "markdown",
   "metadata": {},
   "source": [
    "<h3> Playoffs </h3> "
   ]
  },
  {
   "cell_type": "code",
   "execution_count": 3,
   "metadata": {},
   "outputs": [
    {
     "name": "stdout",
     "output_type": "stream",
     "text": [
      "\n",
      "Playoffs: \n",
      "\tPoints: 2673\t\n",
      "\tAssists: 770\t\n",
      "\tRebounds: 4104\t\n",
      "\tSteals: 0\n",
      "\tBlocks: 0\n"
     ]
    }
   ],
   "source": [
    "print(\"\\nPlayoffs: \")\n",
    "po_points = int(input(\"\\tPoints: \"))\n",
    "po_assists = int(input(\"\\tAssists: \"))\n",
    "po_rebounds = int(input(\"\\tRebounds: \"))\n",
    "po_steals = int(input(\"\\tSteals: \"))\n",
    "po_blocks = int(input(\"\\tBlocks: \"))"
   ]
  },
  {
   "cell_type": "markdown",
   "metadata": {},
   "source": [
    "<h1> New player: </h1>"
   ]
  },
  {
   "cell_type": "markdown",
   "metadata": {},
   "source": [
    "<h3> Libraries and files </h3>"
   ]
  },
  {
   "cell_type": "code",
   "execution_count": 4,
   "metadata": {},
   "outputs": [
    {
     "name": "stdout",
     "output_type": "stream",
     "text": [
      "<Element 'regular_season' at 0x000001B9FAA09D68>\n",
      "<Element 'playoffs' at 0x000001B9FAA83188>\n",
      "<Element 'both' at 0x000001B9FAA8B098>\n"
     ]
    }
   ],
   "source": [
    "import xml.etree.ElementTree as ET\n",
    "tree = ET.parse(\"Data.XML\")\n",
    "root = tree.getroot()\n",
    "regular_season = root[0]\n",
    "playoffs = root[1]\n",
    "both = root[2]\n",
    "print(regular_season)\n",
    "print(playoffs)\n",
    "print(both)"
   ]
  },
  {
   "cell_type": "markdown",
   "metadata": {},
   "source": [
    "<h3> Function </h3>"
   ]
  },
  {
   "cell_type": "markdown",
   "metadata": {},
   "source": [
    "<h4> Regular season </h4>"
   ]
  },
  {
   "cell_type": "code",
   "execution_count": 5,
   "metadata": {},
   "outputs": [],
   "source": [
    "def createRSPlayer():\n",
    "    \n",
    "    rs = ET.Element(str(name))\n",
    "    \n",
    "    points = ET.SubElement(rs,'points')\n",
    "    points.text = str(rs_points)\n",
    "    \n",
    "    assists = ET.SubElement(rs,'assists')\n",
    "    assists.text = str(rs_assists)\n",
    "    \n",
    "    rebounds = ET.SubElement(rs,'rebounds')\n",
    "    rebounds.text = str(rs_rebounds)\n",
    "    \n",
    "    blocks = ET.SubElement(rs, 'blocks')\n",
    "    blocks.text = str(rs_blocks)\n",
    "    \n",
    "    steals = ET.SubElement(rs,'steals')\n",
    "    steals.text = str(rs_steals) \n",
    "    \n",
    "    regular_season.append(rs)\n",
    "    tree.write(\"Data.XML\")"
   ]
  },
  {
   "cell_type": "markdown",
   "metadata": {},
   "source": [
    "<h4> Test: regular season </h4>"
   ]
  },
  {
   "cell_type": "code",
   "execution_count": 6,
   "metadata": {},
   "outputs": [],
   "source": [
    "createRSPlayer()"
   ]
  },
  {
   "cell_type": "markdown",
   "metadata": {},
   "source": [
    "<h4> Playoffs </h4>"
   ]
  },
  {
   "cell_type": "code",
   "execution_count": 7,
   "metadata": {},
   "outputs": [],
   "source": [
    "def createPlayoffsPlayer():\n",
    "    \n",
    "    po = ET.Element(str(name))\n",
    "    \n",
    "    points = ET.SubElement(po,'points')\n",
    "    points.text = str(po_points)\n",
    "    \n",
    "    assists = ET.SubElement(po,'assists')\n",
    "    assists.text = str(po_assists)\n",
    "    \n",
    "    rebounds = ET.SubElement(po,'rebounds')\n",
    "    rebounds.text = str(po_rebounds)\n",
    "    \n",
    "    blocks = ET.SubElement(po, 'blocks')\n",
    "    blocks.text = str(po_blocks)\n",
    "    \n",
    "    steals = ET.SubElement(po,'steals')\n",
    "    steals.text = str(po_steals) \n",
    "    \n",
    "    playoffs.append(po)\n",
    "    tree.write(\"Data.XML\")"
   ]
  },
  {
   "cell_type": "markdown",
   "metadata": {},
   "source": [
    "<h4> Test: playoffs </h4>"
   ]
  },
  {
   "cell_type": "code",
   "execution_count": 8,
   "metadata": {},
   "outputs": [],
   "source": [
    "createPlayoffsPlayer()"
   ]
  },
  {
   "cell_type": "markdown",
   "metadata": {},
   "source": [
    "<h2> Create a player with both catgories combined </h2>"
   ]
  },
  {
   "cell_type": "markdown",
   "metadata": {},
   "source": [
    "<h4> Creation: function </h4>"
   ]
  },
  {
   "cell_type": "code",
   "execution_count": 9,
   "metadata": {},
   "outputs": [],
   "source": [
    "def createPlayerTotals():\n",
    "    total_points = int(rs_points) + int(po_points)\n",
    "    total_assists = int(rs_assists) + int(po_assists)\n",
    "    total_rebounds = int(rs_rebounds) + int(po_rebounds)\n",
    "    total_steals = int(rs_steals) + int(po_steals)\n",
    "    total_blocks = int(rs_blocks) + int(po_blocks)\n",
    "    total = int(total_points) + int(total_assists) + int(total_rebounds) + int(total_steals) + int(total_blocks)\n",
    "    \n",
    "    player_totals = ET.Element(str(name))\n",
    "    \n",
    "    points = ET.SubElement(player_totals,'points')\n",
    "    points.text = str(total_points)\n",
    "    \n",
    "    assists = ET.SubElement(player_totals,'assists')\n",
    "    assists.text = str(total_assists)\n",
    "    \n",
    "    rebounds = ET.SubElement(player_totals, 'rebounds')\n",
    "    rebounds.text = str(total_rebounds)\n",
    "\n",
    "    blocks = ET.SubElement(player_totals,'blocks')\n",
    "    blocks.text = str(total_blocks)\n",
    "    \n",
    "    steals = ET.SubElement(player_totals,'steals')\n",
    "    steals.text = str(total_steals)\n",
    "    \n",
    "    player_totals.set(\"total\",str(total))\n",
    "    \n",
    "    both.append(player_totals)\n",
    "    tree.write(\"Data.XML\")"
   ]
  },
  {
   "cell_type": "markdown",
   "metadata": {},
   "source": [
    "<h4> Test </h4>"
   ]
  },
  {
   "cell_type": "code",
   "execution_count": 10,
   "metadata": {},
   "outputs": [],
   "source": [
    "createPlayerTotals()"
   ]
  },
  {
   "cell_type": "code",
   "execution_count": null,
   "metadata": {},
   "outputs": [],
   "source": []
  }
 ],
 "metadata": {
  "kernelspec": {
   "display_name": "Python 3",
   "language": "python",
   "name": "python3"
  },
  "language_info": {
   "codemirror_mode": {
    "name": "ipython",
    "version": 3
   },
   "file_extension": ".py",
   "mimetype": "text/x-python",
   "name": "python",
   "nbconvert_exporter": "python",
   "pygments_lexer": "ipython3",
   "version": "3.7.3"
  }
 },
 "nbformat": 4,
 "nbformat_minor": 2
}
