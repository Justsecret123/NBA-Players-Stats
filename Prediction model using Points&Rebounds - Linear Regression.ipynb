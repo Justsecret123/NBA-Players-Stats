{
 "cells": [
  {
   "cell_type": "markdown",
   "metadata": {},
   "source": [
    "<div class='alert alert-info' style=\"font-family: 'Segoe UI'; font-weight: 300\">\n",
    "    <center> <h1> Prediction model using Points & Rebounds - Multiple Linear Regression </h1> </center>\n",
    "</div>"
   ]
  },
  {
   "cell_type": "markdown",
   "metadata": {},
   "source": [
    "<h1 id=\"libraries\"> Libraries </h1>"
   ]
  },
  {
   "cell_type": "code",
   "execution_count": 1,
   "metadata": {},
   "outputs": [],
   "source": [
    "import pandas as pd\n",
    "import numpy as np\n",
    "import matplotlib.pyplot as plt\n",
    "%matplotlib inline\n",
    "from sklearn.linear_model import LinearRegression\n",
    "import seaborn as sns\n",
    "from sklearn.metrics import r2_score"
   ]
  },
  {
   "cell_type": "markdown",
   "metadata": {},
   "source": [
    "<h1> Files </h1>"
   ]
  },
  {
   "cell_type": "code",
   "execution_count": 2,
   "metadata": {},
   "outputs": [],
   "source": [
    "regular_season = pd.read_csv(\"Data_regular_season.csv\")\n",
    "playoffs = pd.read_csv(\"Data_playoffs.csv\")"
   ]
  },
  {
   "cell_type": "markdown",
   "metadata": {},
   "source": [
    "<h2 id=\"overview\">Overview </h2>"
   ]
  },
  {
   "cell_type": "code",
   "execution_count": 3,
   "metadata": {},
   "outputs": [],
   "source": [
    "regular_season.set_index(\"Player\",inplace=True)\n",
    "playoffs.set_index(\"Player\",inplace=True)"
   ]
  },
  {
   "cell_type": "markdown",
   "metadata": {},
   "source": [
    "<h3> Regular season </h3>"
   ]
  },
  {
   "cell_type": "code",
   "execution_count": 4,
   "metadata": {},
   "outputs": [
    {
     "data": {
      "text/html": [
       "<div>\n",
       "<style scoped>\n",
       "    .dataframe tbody tr th:only-of-type {\n",
       "        vertical-align: middle;\n",
       "    }\n",
       "\n",
       "    .dataframe tbody tr th {\n",
       "        vertical-align: top;\n",
       "    }\n",
       "\n",
       "    .dataframe thead th {\n",
       "        text-align: right;\n",
       "    }\n",
       "</style>\n",
       "<table border=\"1\" class=\"dataframe\">\n",
       "  <thead>\n",
       "    <tr style=\"text-align: right;\">\n",
       "      <th></th>\n",
       "      <th>Points</th>\n",
       "      <th>Assists</th>\n",
       "      <th>Rebounds</th>\n",
       "      <th>Steals</th>\n",
       "      <th>Blocks</th>\n",
       "      <th>Primary Position</th>\n",
       "    </tr>\n",
       "    <tr>\n",
       "      <th>Player</th>\n",
       "      <th></th>\n",
       "      <th></th>\n",
       "      <th></th>\n",
       "      <th></th>\n",
       "      <th></th>\n",
       "      <th></th>\n",
       "    </tr>\n",
       "  </thead>\n",
       "  <tbody>\n",
       "    <tr>\n",
       "      <th>LeBron</th>\n",
       "      <td>34241</td>\n",
       "      <td>9346</td>\n",
       "      <td>9405</td>\n",
       "      <td>2015</td>\n",
       "      <td>957</td>\n",
       "      <td>3</td>\n",
       "    </tr>\n",
       "    <tr>\n",
       "      <th>MJ</th>\n",
       "      <td>32292</td>\n",
       "      <td>5633</td>\n",
       "      <td>6672</td>\n",
       "      <td>1944</td>\n",
       "      <td>893</td>\n",
       "      <td>2</td>\n",
       "    </tr>\n",
       "    <tr>\n",
       "      <th>Kareem</th>\n",
       "      <td>38387</td>\n",
       "      <td>5660</td>\n",
       "      <td>17440</td>\n",
       "      <td>1160</td>\n",
       "      <td>3189</td>\n",
       "      <td>5</td>\n",
       "    </tr>\n",
       "    <tr>\n",
       "      <th>Kobe</th>\n",
       "      <td>33643</td>\n",
       "      <td>6306</td>\n",
       "      <td>7047</td>\n",
       "      <td>1944</td>\n",
       "      <td>640</td>\n",
       "      <td>2</td>\n",
       "    </tr>\n",
       "    <tr>\n",
       "      <th>Karl_Malone</th>\n",
       "      <td>36928</td>\n",
       "      <td>5248</td>\n",
       "      <td>14968</td>\n",
       "      <td>2085</td>\n",
       "      <td>1145</td>\n",
       "      <td>4</td>\n",
       "    </tr>\n",
       "  </tbody>\n",
       "</table>\n",
       "</div>"
      ],
      "text/plain": [
       "             Points  Assists  Rebounds  Steals  Blocks  Primary Position\n",
       "Player                                                                  \n",
       "LeBron        34241     9346      9405    2015     957                 3\n",
       "MJ            32292     5633      6672    1944     893                 2\n",
       "Kareem        38387     5660     17440    1160    3189                 5\n",
       "Kobe          33643     6306      7047    1944     640                 2\n",
       "Karl_Malone   36928     5248     14968    2085    1145                 4"
      ]
     },
     "execution_count": 4,
     "metadata": {},
     "output_type": "execute_result"
    }
   ],
   "source": [
    "regular_season.head(5)"
   ]
  },
  {
   "cell_type": "markdown",
   "metadata": {},
   "source": [
    "<h3> Playoffs </h3>"
   ]
  },
  {
   "cell_type": "code",
   "execution_count": 5,
   "metadata": {},
   "outputs": [
    {
     "data": {
      "text/html": [
       "<div>\n",
       "<style scoped>\n",
       "    .dataframe tbody tr th:only-of-type {\n",
       "        vertical-align: middle;\n",
       "    }\n",
       "\n",
       "    .dataframe tbody tr th {\n",
       "        vertical-align: top;\n",
       "    }\n",
       "\n",
       "    .dataframe thead th {\n",
       "        text-align: right;\n",
       "    }\n",
       "</style>\n",
       "<table border=\"1\" class=\"dataframe\">\n",
       "  <thead>\n",
       "    <tr style=\"text-align: right;\">\n",
       "      <th></th>\n",
       "      <th>Points</th>\n",
       "      <th>Assists</th>\n",
       "      <th>Rebounds</th>\n",
       "      <th>Steals</th>\n",
       "      <th>Blocks</th>\n",
       "      <th>Primary Position</th>\n",
       "    </tr>\n",
       "    <tr>\n",
       "      <th>Player</th>\n",
       "      <th></th>\n",
       "      <th></th>\n",
       "      <th></th>\n",
       "      <th></th>\n",
       "      <th></th>\n",
       "      <th></th>\n",
       "    </tr>\n",
       "  </thead>\n",
       "  <tbody>\n",
       "    <tr>\n",
       "      <th>LeBron</th>\n",
       "      <td>7491</td>\n",
       "      <td>1871</td>\n",
       "      <td>2348</td>\n",
       "      <td>445</td>\n",
       "      <td>250</td>\n",
       "      <td>3</td>\n",
       "    </tr>\n",
       "    <tr>\n",
       "      <th>MJ</th>\n",
       "      <td>5987</td>\n",
       "      <td>1022</td>\n",
       "      <td>1152</td>\n",
       "      <td>376</td>\n",
       "      <td>158</td>\n",
       "      <td>2</td>\n",
       "    </tr>\n",
       "    <tr>\n",
       "      <th>Kareem</th>\n",
       "      <td>5762</td>\n",
       "      <td>767</td>\n",
       "      <td>2481</td>\n",
       "      <td>189</td>\n",
       "      <td>476</td>\n",
       "      <td>5</td>\n",
       "    </tr>\n",
       "    <tr>\n",
       "      <th>Kobe</th>\n",
       "      <td>5640</td>\n",
       "      <td>1040</td>\n",
       "      <td>1119</td>\n",
       "      <td>310</td>\n",
       "      <td>144</td>\n",
       "      <td>2</td>\n",
       "    </tr>\n",
       "    <tr>\n",
       "      <th>Karl_Malone</th>\n",
       "      <td>4761</td>\n",
       "      <td>610</td>\n",
       "      <td>2062</td>\n",
       "      <td>258</td>\n",
       "      <td>135</td>\n",
       "      <td>4</td>\n",
       "    </tr>\n",
       "  </tbody>\n",
       "</table>\n",
       "</div>"
      ],
      "text/plain": [
       "             Points  Assists  Rebounds  Steals  Blocks  Primary Position\n",
       "Player                                                                  \n",
       "LeBron         7491     1871      2348     445     250                 3\n",
       "MJ             5987     1022      1152     376     158                 2\n",
       "Kareem         5762      767      2481     189     476                 5\n",
       "Kobe           5640     1040      1119     310     144                 2\n",
       "Karl_Malone    4761      610      2062     258     135                 4"
      ]
     },
     "execution_count": 5,
     "metadata": {},
     "output_type": "execute_result"
    }
   ],
   "source": [
    "playoffs.head(5)"
   ]
  },
  {
   "cell_type": "markdown",
   "metadata": {},
   "source": [
    "<h3> Totals </h3>"
   ]
  },
  {
   "cell_type": "code",
   "execution_count": 6,
   "metadata": {},
   "outputs": [
    {
     "data": {
      "text/plain": [
       "Player\n",
       "LeBron         68375\n",
       "MJ             56133\n",
       "Kareem         75521\n",
       "Kobe           57837\n",
       "Karl_Malone    68208\n",
       "dtype: int64"
      ]
     },
     "execution_count": 6,
     "metadata": {},
     "output_type": "execute_result"
    }
   ],
   "source": [
    "totals = pd.Series(regular_season.sum(axis=1)+playoffs.sum(axis=1))\n",
    "totals.head()"
   ]
  },
  {
   "cell_type": "markdown",
   "metadata": {},
   "source": [
    "<h1> Creating the linear model </h1>"
   ]
  },
  {
   "cell_type": "code",
   "execution_count": 7,
   "metadata": {},
   "outputs": [
    {
     "data": {
      "text/plain": [
       "LinearRegression(normalize=True)"
      ]
     },
     "execution_count": 7,
     "metadata": {},
     "output_type": "execute_result"
    }
   ],
   "source": [
    "lm = LinearRegression(normalize=True)\n",
    "lm"
   ]
  },
  {
   "cell_type": "markdown",
   "metadata": {},
   "source": [
    "<h2> Independent (X) and dependent (Y) variables </h2>"
   ]
  },
  {
   "cell_type": "code",
   "execution_count": 8,
   "metadata": {},
   "outputs": [
    {
     "data": {
      "text/plain": [
       "Player\n",
       "LeBron         68375\n",
       "MJ             56133\n",
       "Kareem         75521\n",
       "Kobe           57837\n",
       "Karl_Malone    68208\n",
       "Wilt           68189\n",
       "Shaq           57118\n",
       "Duncan         59396\n",
       "Dirk           54946\n",
       "Hakeem         56068\n",
       "dtype: int64"
      ]
     },
     "execution_count": 8,
     "metadata": {},
     "output_type": "execute_result"
    }
   ],
   "source": [
    "X = regular_season[[\"Points\",\"Rebounds\"]]+playoffs[[\"Points\",\"Rebounds\"]]\n",
    "Y = totals\n",
    "Y.head(10)"
   ]
  },
  {
   "cell_type": "markdown",
   "metadata": {},
   "source": [
    "<h1> 1- Without train/test split </h1>"
   ]
  },
  {
   "cell_type": "markdown",
   "metadata": {},
   "source": [
    "<h2>a. Fitting the created model </h2>"
   ]
  },
  {
   "cell_type": "code",
   "execution_count": 9,
   "metadata": {},
   "outputs": [
    {
     "data": {
      "text/plain": [
       "LinearRegression(normalize=True)"
      ]
     },
     "execution_count": 9,
     "metadata": {},
     "output_type": "execute_result"
    }
   ],
   "source": [
    "lm.fit(X,Y)"
   ]
  },
  {
   "cell_type": "markdown",
   "metadata": {},
   "source": [
    "<h2> b. Test: predicting values </h2>"
   ]
  },
  {
   "cell_type": "code",
   "execution_count": 10,
   "metadata": {},
   "outputs": [
    {
     "data": {
      "text/plain": [
       "array([64098.17165145, 57042.93460798, 73223.73178519, 58475.74460383,\n",
       "       68126.3984963 ])"
      ]
     },
     "execution_count": 10,
     "metadata": {},
     "output_type": "execute_result"
    }
   ],
   "source": [
    "Yhat = lm.predict(X)\n",
    "Yhat[0:5]"
   ]
  },
  {
   "cell_type": "markdown",
   "metadata": {},
   "source": [
    "<h2> c. Plotting the LM using points AND rebounds : <i> distribution plot </i> </h2>"
   ]
  },
  {
   "cell_type": "code",
   "execution_count": 11,
   "metadata": {},
   "outputs": [
    {
     "name": "stdout",
     "output_type": "stream",
     "text": [
      "Coefs = [1.16384364 0.77283914] \n",
      "Intercepts = 6445.470635867299\n",
      "\n",
      "Yhat = 6445.470635867299 + 1.163843636751765*Points + 0.7728391361060727*Rebounds\n",
      "\n",
      "For example, a player with 38.000 points and 7800 rebounds must likely have 56700\n"
     ]
    },
    {
     "data": {
      "image/png": "[encoded data removed]",
      "text/plain": [
       "<Figure size 432x432 with 1 Axes>"
      ]
     },
     "metadata": {
      "needs_background": "light"
     },
     "output_type": "display_data"
    }
   ],
   "source": [
    "print(f\"Coefs = {lm.coef_} \")\n",
    "print(f\"Intercepts = {lm.intercept_}\")\n",
    "print(f\"\\nYhat = {lm.intercept_} + {lm.coef_[0]}*Points + {lm.coef_[1]}*Rebounds\")\n",
    "\n",
    "print(f\"\\nFor example, a player with 38.000 points and 7800 rebounds must likely have {round(lm.intercept_+lm.coef_[0]*38000+lm.coef_[1]*7800)}\")\n",
    "\n",
    "plt.figure(figsize=(6,6))\n",
    "\n",
    "ax1 = sns.kdeplot(Y, )\n",
    "ax2 = sns.kdeplot(Yhat, ax=ax1)\n",
    "\n",
    "\n",
    "plt.show()"
   ]
  },
  {
   "cell_type": "markdown",
   "metadata": {},
   "source": [
    "<center class='alert alert-info'>  <span style=\"color: blue; border: 1px solid black; padding: 3px; border-radius: 5px;\"> \n",
    "    <i> Yhat = 6445.470635867299  + 1.163843636751765*X1 + 0.7728391361060727*X2 </i> </span> <br> <br>\n",
    "    <span style=\"color: blue; border: 1px solid black; padding: 3px; border-radius: 5px\"><i> Yhat = 6445.470635867299  + 1.163843636751765*Points + 0.7728391361060727*Rebounds</i> </span> </center>"
   ]
  },
  {
   "cell_type": "markdown",
   "metadata": {},
   "source": [
    "<h2> d. R2 score: Evaluating the model </h2>"
   ]
  },
  {
   "cell_type": "code",
   "execution_count": 12,
   "metadata": {},
   "outputs": [
    {
     "name": "stdout",
     "output_type": "stream",
     "text": [
      "Model score: 0.9071200854472427\n"
     ]
    }
   ],
   "source": [
    "print(f\"Model score: {lm.score(X,Y)}\")"
   ]
  },
  {
   "cell_type": "markdown",
   "metadata": {},
   "source": [
    "<h1> 2- With train/test split </h1>"
   ]
  },
  {
   "cell_type": "code",
   "execution_count": 13,
   "metadata": {},
   "outputs": [],
   "source": [
    "from sklearn.model_selection import train_test_split"
   ]
  },
  {
   "cell_type": "markdown",
   "metadata": {},
   "source": [
    "<h3>Parameters</h3>\n",
    "<ul>\n",
    "    <li>Train size: 85%</li>\n",
    "    <li>Test size: 15%</li>\n",
    "</ul>"
   ]
  },
  {
   "cell_type": "code",
   "execution_count": 14,
   "metadata": {},
   "outputs": [],
   "source": [
    "x_train, x_test, y_train, y_test = train_test_split(X,Y,test_size=0.15,random_state=1)"
   ]
  },
  {
   "cell_type": "code",
   "execution_count": 15,
   "metadata": {},
   "outputs": [
    {
     "data": {
      "text/plain": [
       "LinearRegression(normalize=True)"
      ]
     },
     "execution_count": 15,
     "metadata": {},
     "output_type": "execute_result"
    }
   ],
   "source": [
    "lm.fit(x_train,y_train)"
   ]
  },
  {
   "cell_type": "markdown",
   "metadata": {},
   "source": [
    "<h2> Plotting the results </h2>"
   ]
  },
  {
   "cell_type": "code",
   "execution_count": 16,
   "metadata": {},
   "outputs": [],
   "source": [
    "Yhat_train = lm.predict(x_train)\n",
    "Yhat_test = lm.predict(x_test)"
   ]
  },
  {
   "cell_type": "markdown",
   "metadata": {},
   "source": [
    "<h3> Training set </h3>"
   ]
  },
  {
   "cell_type": "code",
   "execution_count": 17,
   "metadata": {},
   "outputs": [
    {
     "data": {
      "image/png": "[encoded data removed]",
      "text/plain": [
       "<Figure size 432x288 with 1 Axes>"
      ]
     },
     "metadata": {
      "needs_background": "light"
     },
     "output_type": "display_data"
    }
   ],
   "source": [
    "plt.figure()\n",
    "\n",
    "ax1 = sns.kdeplot(Yhat_train, legend=True, label=\"Predicted values\")\n",
    "ax2 = sns.kdeplot(y_train,ax=ax1, legend=True )\n",
    "\n",
    "plt.show()"
   ]
  },
  {
   "cell_type": "markdown",
   "metadata": {},
   "source": [
    "<h3> R2 score: Evaluating the training set </h3>"
   ]
  },
  {
   "cell_type": "code",
   "execution_count": 18,
   "metadata": {},
   "outputs": [
    {
     "name": "stdout",
     "output_type": "stream",
     "text": [
      "Train set score: 0.8909464659893638\n"
     ]
    }
   ],
   "source": [
    "print(f\"Train set score: {r2_score(y_train,Yhat_train)}\")"
   ]
  },
  {
   "cell_type": "markdown",
   "metadata": {},
   "source": [
    "<h3> Test set </h3>"
   ]
  },
  {
   "cell_type": "code",
   "execution_count": 19,
   "metadata": {},
   "outputs": [
    {
     "data": {
      "image/png": "[encoded data removed]",
      "text/plain": [
       "<Figure size 432x288 with 1 Axes>"
      ]
     },
     "metadata": {
      "needs_background": "light"
     },
     "output_type": "display_data"
    }
   ],
   "source": [
    "plt.figure()\n",
    "\n",
    "ax1 = sns.kdeplot(Yhat_test)\n",
    "ax2 = sns.kdeplot(y_test, ax=ax1)\n",
    "\n",
    "plt.show()"
   ]
  },
  {
   "cell_type": "markdown",
   "metadata": {},
   "source": [
    "<h3> R2 score: Evaluating the test set </h3>"
   ]
  },
  {
   "cell_type": "code",
   "execution_count": 20,
   "metadata": {},
   "outputs": [
    {
     "name": "stdout",
     "output_type": "stream",
     "text": [
      "Test set score: 0.9552835477525088\n"
     ]
    }
   ],
   "source": [
    "print(f\"Test set score: {r2_score(y_test,Yhat_test)}\")"
   ]
  },
  {
   "cell_type": "markdown",
   "metadata": {},
   "source": [
    "<center> <span style=\"text-size: 24px;\" class=\"alert alert-success\"> Our model tends not to overfit nor underfit.\n",
    "    However, since we do not have sufficient test data, let's perform cross-validation\n",
    "    </span> </center>"
   ]
  },
  {
   "cell_type": "markdown",
   "metadata": {},
   "source": [
    "<h2> Cross-validation </h2>"
   ]
  },
  {
   "cell_type": "code",
   "execution_count": 21,
   "metadata": {},
   "outputs": [],
   "source": [
    "from sklearn.model_selection import cross_val_score\n",
    "from sklearn.model_selection import cross_val_predict"
   ]
  },
  {
   "cell_type": "code",
   "execution_count": 22,
   "metadata": {},
   "outputs": [
    {
     "data": {
      "text/plain": [
       "array([0.68317947, 0.88915542, 0.77563495])"
      ]
     },
     "execution_count": 22,
     "metadata": {},
     "output_type": "execute_result"
    }
   ],
   "source": [
    "Rcross = cross_val_score(lm,X,Y,cv=3)\n",
    "Rcross"
   ]
  },
  {
   "cell_type": "code",
   "execution_count": 23,
   "metadata": {},
   "outputs": [
    {
     "name": "stdout",
     "output_type": "stream",
     "text": [
      "The mean of the folds is 0.7826566140835952 and the standard derivation is 0.0842357809639692\n",
      "The accuracy of our model using cross validation with 3 folds is 78%\n"
     ]
    }
   ],
   "source": [
    "print(f\"The mean of the folds is {Rcross.mean()} and the standard derivation is {Rcross.std()}\")\n",
    "print(f\"The accuracy of our model using cross validation with 3 folds is {round(Rcross.mean()*100)}%\")"
   ]
  },
  {
   "cell_type": "code",
   "execution_count": 24,
   "metadata": {},
   "outputs": [
    {
     "data": {
      "text/plain": [
       "LinearRegression()"
      ]
     },
     "execution_count": 24,
     "metadata": {},
     "output_type": "execute_result"
    }
   ],
   "source": [
    "lm = LinearRegression()\n",
    "lm.fit(x_train,y_train)"
   ]
  },
  {
   "cell_type": "code",
   "execution_count": 25,
   "metadata": {},
   "outputs": [
    {
     "data": {
      "text/plain": [
       "array([45636.77132257, 46374.00953713, 27480.5425375 , 43363.5254786 ,\n",
       "       41739.36495358])"
      ]
     },
     "execution_count": 25,
     "metadata": {},
     "output_type": "execute_result"
    }
   ],
   "source": [
    "Yhat_train = lm.predict(x_train)\n",
    "Yhat_train[0:5]"
   ]
  },
  {
   "cell_type": "code",
   "execution_count": 26,
   "metadata": {},
   "outputs": [
    {
     "data": {
      "text/plain": [
       "array([43862.25832034, 47915.21656202, 49092.07877157, 43164.28800883,\n",
       "       73012.04952061])"
      ]
     },
     "execution_count": 26,
     "metadata": {},
     "output_type": "execute_result"
    }
   ],
   "source": [
    "Yhat_test = lm.predict(x_test)\n",
    "Yhat_test[0:5]"
   ]
  },
  {
   "cell_type": "code",
   "execution_count": 27,
   "metadata": {},
   "outputs": [],
   "source": [
    "def DistributionPlot(RedFunction, BlueFunction, RedName, BlueName, Title):\n",
    "    width = 8\n",
    "    height = 8\n",
    "    plt.figure(figsize=(width, height))\n",
    "\n",
    "    ax1 = sns.kdeplot(RedFunction)\n",
    "    ax2 = sns.kdeplot(BlueFunction, ax=ax1)"
   ]
  },
  {
   "cell_type": "code",
   "execution_count": 28,
   "metadata": {},
   "outputs": [
    {
     "data": {
      "image/png": "[encoded data removed]",
      "text/plain": [
       "<Figure size 576x576 with 1 Axes>"
      ]
     },
     "metadata": {
      "needs_background": "light"
     },
     "output_type": "display_data"
    }
   ],
   "source": [
    "DistributionPlot(y_train,Yhat_train,\"Actual values (train)\", \"Predicted values\", \"\")"
   ]
  },
  {
   "cell_type": "markdown",
   "metadata": {},
   "source": [
    "<h3 class=\"alert alert-info\"> Our model seems to be very close to the actual values, within the [45k;60k] ranges with the training set </h3>"
   ]
  },
  {
   "cell_type": "code",
   "execution_count": 29,
   "metadata": {},
   "outputs": [
    {
     "data": {
      "image/png": "[encoded data removed]",
      "text/plain": [
       "<Figure size 576x576 with 1 Axes>"
      ]
     },
     "metadata": {
      "needs_background": "light"
     },
     "output_type": "display_data"
    }
   ],
   "source": [
    "DistributionPlot(y_test,Yhat_test,\"Actual values (test)\",\"Predicted values (test)\",\"\")"
   ]
  },
  {
   "cell_type": "markdown",
   "metadata": {},
   "source": [
    "<h3 class=\"alert alert-warning\"> Test set accuracy is less accurate than expected, with cross-validation  <br>\n",
    "</h3>"
   ]
  },
  {
   "cell_type": "markdown",
   "metadata": {},
   "source": [
    "<div style=\"float: right\">Ibrahim SEROUIS</div>"
   ]
  }
 ],
 "metadata": {
  "kernelspec": {
   "display_name": "Python 3",
   "language": "python",
   "name": "python3"
  },
  "language_info": {
   "codemirror_mode": {
    "name": "ipython",
    "version": 3
   },
   "file_extension": ".py",
   "mimetype": "text/x-python",
   "name": "python",
   "nbconvert_exporter": "python",
   "pygments_lexer": "ipython3",
   "version": "3.8.5"
  }
 },
 "nbformat": 4,
 "nbformat_minor": 2
}
